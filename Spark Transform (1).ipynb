{
  "cells": [
    {
      "cell_type": "markdown",
      "source": [
        "# Transform data by using Spark\n",
        "\n",
        "Apache Spark provides a distributed data processing platform that you can use to perform complex data transformations at scale.\n",
        "\n",
        "\n",
        "## Load source data\n",
        "\n",
        "Let's start by loading some historical sales order data into a dataframe.\n",
        "\n",
        "Review the code in the cell below, which loads the sales order from all of the csv files within the **data** directory. Then click the **&#9655;** button to the left of the cell to run it.\n",
        "\n",
        "> **Note**: The first time you run a cell in a notebook, the Spark pool must be started; which can take several minutes."
      ],
      "metadata": {}
    },
    {
      "cell_type": "code",
      "source": [
        "order_details = spark.read.csv('/data/*.csv', header=True, inferSchema=True)\n",
        "display(order_details.limit(5))"
      ],
      "outputs": [
        {
          "output_type": "display_data",
          "data": {
            "application/vnd.livy.statement-meta+json": {
              "spark_pool": "sparkzs2dea8",
              "session_id": "0",
              "statement_id": 4,
              "state": "finished",
              "livy_statement_state": "available",
              "queued_time": "2024-04-15T12:19:52.4545124Z",
              "session_start_time": null,
              "execution_start_time": "2024-04-15T12:19:52.55401Z",
              "execution_finish_time": "2024-04-15T12:19:56.4907653Z",
              "spark_jobs": null,
              "parent_msg_id": "a15e1298-532c-45d4-b86e-0e1956945948"
            },
            "text/plain": "StatementMeta(sparkzs2dea8, 0, 4, Finished, Available)"
          },
          "metadata": {}
        },
        {
          "output_type": "display_data",
          "data": {
            "application/vnd.synapse.widget-view+json": {
              "widget_id": "44e37898-dc40-403f-93ce-544e74f1a8f3",
              "widget_type": "Synapse.DataFrame"
            },
            "text/plain": "SynapseWidget(Synapse.DataFrame, 44e37898-dc40-403f-93ce-544e74f1a8f3)"
          },
          "metadata": {}
        }
      ],
      "execution_count": 3,
      "metadata": {
        "collapsed": false
      }
    },
    {
      "cell_type": "markdown",
      "source": [
        "## Transform the data structure\r\n",
        "\r\n",
        "The source data includes a **CustomerName** field, that contains the customer's first and last name. Let's modify the dataframe to separate this field into separate **FirstName** and **LastName** fields."
      ],
      "metadata": {
        "nteract": {
          "transient": {
            "deleting": false
          }
        }
      }
    },
    {
      "cell_type": "code",
      "source": [
        "from pyspark.sql.functions import split, col\r\n",
        "\r\n",
        "# Create the new FirstName and LastName fields\r\n",
        "transformed_df = order_details.withColumn(\"FirstName\", split(col(\"CustomerName\"), \" \").getItem(0)).withColumn(\"LastName\", split(col(\"CustomerName\"), \" \").getItem(1))\r\n",
        "\r\n",
        "# Remove the CustomerName field\r\n",
        "transformed_df = transformed_df.drop(\"CustomerName\")\r\n",
        "\r\n",
        "display(transformed_df.limit(5))"
      ],
      "outputs": [
        {
          "output_type": "display_data",
          "data": {
            "application/vnd.livy.statement-meta+json": {
              "spark_pool": "sparkzs2dea8",
              "session_id": "0",
              "statement_id": 3,
              "state": "finished",
              "livy_statement_state": "available",
              "queued_time": "2024-04-15T12:18:17.4118473Z",
              "session_start_time": null,
              "execution_start_time": "2024-04-15T12:18:17.5208814Z",
              "execution_finish_time": "2024-04-15T12:18:19.3131941Z",
              "spark_jobs": null,
              "parent_msg_id": "f74ac738-d08f-4212-bd75-3bde60213611"
            },
            "text/plain": "StatementMeta(sparkzs2dea8, 0, 3, Finished, Available)"
          },
          "metadata": {}
        },
        {
          "output_type": "display_data",
          "data": {
            "application/vnd.synapse.widget-view+json": {
              "widget_id": "c36a7ee1-54d7-4289-8441-c9899a3d9459",
              "widget_type": "Synapse.DataFrame"
            },
            "text/plain": "SynapseWidget(Synapse.DataFrame, c36a7ee1-54d7-4289-8441-c9899a3d9459)"
          },
          "metadata": {}
        }
      ],
      "execution_count": 2,
      "metadata": {
        "jupyter": {
          "source_hidden": false,
          "outputs_hidden": false
        },
        "nteract": {
          "transient": {
            "deleting": false
          }
        },
        "collapsed": false
      }
    },
    {
      "cell_type": "markdown",
      "source": [
        "The code above creates a new dataframe with the **CustomerName** field removed and two new **FirstName** and **LastName** fields.\r\n",
        "\r\n",
        "You can use the full power of the Spark SQL library to transform the data by filtering rows, deriving, removing, renaming columns, and any applying other required data modifications.\r\n",
        "\r\n",
        "## Save the transformed data\r\n",
        "\r\n",
        "After making the required changes to the data, you can save the results in a supported file format.\r\n",
        "\r\n",
        "> **Note**: Commonly, *Parquet* format is preferred for data files that you will use for further analysis or ingestion into an analytical store. Parquet is a very efficient format that is supported by most large scale data analytics systems. In fact, sometimes your data transformation requirement may simply be to convert data from another format (such as CSV) to Parquet!\r\n",
        "\r\n",
        "Use the following code to save the transformed dataframe in Parquet format (Overwriting the data if it already exists)."
      ],
      "metadata": {
        "nteract": {
          "transient": {
            "deleting": false
          }
        }
      }
    },
    {
      "cell_type": "code",
      "source": [
        "transformed_df.write.mode(\"overwrite\").parquet('/transformed_data/orders.parquet')\r\n",
        "print (\"Transformed data saved!\")"
      ],
      "outputs": [
        {
          "output_type": "display_data",
          "data": {
            "application/vnd.livy.statement-meta+json": {
              "spark_pool": "sparkzs2dea8",
              "session_id": "0",
              "statement_id": 5,
              "state": "finished",
              "livy_statement_state": "available",
              "queued_time": "2024-04-15T12:24:03.6794513Z",
              "session_start_time": null,
              "execution_start_time": "2024-04-15T12:24:03.8107432Z",
              "execution_finish_time": "2024-04-15T12:24:09.9731839Z",
              "spark_jobs": null,
              "parent_msg_id": "e54f0f31-2730-42c6-acc4-369a1182f6e8"
            },
            "text/plain": "StatementMeta(sparkzs2dea8, 0, 5, Finished, Available)"
          },
          "metadata": {}
        },
        {
          "output_type": "stream",
          "name": "stdout",
          "text": [
            "Transformed data saved!\n"
          ]
        }
      ],
      "execution_count": 4,
      "metadata": {
        "jupyter": {
          "source_hidden": false,
          "outputs_hidden": false
        },
        "nteract": {
          "transient": {
            "deleting": false
          }
        }
      }
    },
    {
      "cell_type": "markdown",
      "source": [
        "In the **files** tab (which should still be open above), navigate to the root **files** container and verify that a new folder named **transformed_data** has been created, containing a file named **orders.parquet**. Then return to this notebook."
      ],
      "metadata": {
        "nteract": {
          "transient": {
            "deleting": false
          }
        }
      }
    },
    {
      "cell_type": "markdown",
      "source": [
        "## Partition data\n",
        "\n",
        "A common way to optimize performance when dealing with large volumes of data is to partition the data files based on one or more field values. This can significant improve performance and make it easier to filter data.\n",
        "\n",
        "Use the following cell to derive new **Year** and **Month** fields and then save the resulting data in Parquet format, partitioned by year and month."
      ],
      "metadata": {
        "nteract": {
          "transient": {
            "deleting": false
          }
        }
      }
    },
    {
      "cell_type": "code",
      "source": [
        "from pyspark.sql.functions import year, month, col\r\n",
        "\r\n",
        "dated_df = transformed_df.withColumn(\"Year\", year(col(\"OrderDate\"))).withColumn(\"Month\", month(col(\"OrderDate\")))\r\n",
        "display(dated_df.limit(5))\r\n",
        "dated_df.write.partitionBy(\"Year\",\"Month\").mode(\"overwrite\").parquet(\"/partitioned_data\")\r\n",
        "print (\"Transformed data saved!\")"
      ],
      "outputs": [
        {
          "output_type": "display_data",
          "data": {
            "application/vnd.livy.statement-meta+json": {
              "spark_pool": "sparkzs2dea8",
              "session_id": "0",
              "statement_id": 6,
              "state": "finished",
              "livy_statement_state": "available",
              "queued_time": "2024-04-15T12:26:57.6892384Z",
              "session_start_time": null,
              "execution_start_time": "2024-04-15T12:26:57.7873061Z",
              "execution_finish_time": "2024-04-15T12:27:04.8420936Z",
              "spark_jobs": null,
              "parent_msg_id": "77f0fc58-530d-4c4a-9109-802624bf8411"
            },
            "text/plain": "StatementMeta(sparkzs2dea8, 0, 6, Finished, Available)"
          },
          "metadata": {}
        },
        {
          "output_type": "display_data",
          "data": {
            "application/vnd.synapse.widget-view+json": {
              "widget_id": "83a56515-3e3f-449e-ab1a-b652b8f14c72",
              "widget_type": "Synapse.DataFrame"
            },
            "text/plain": "SynapseWidget(Synapse.DataFrame, 83a56515-3e3f-449e-ab1a-b652b8f14c72)"
          },
          "metadata": {}
        },
        {
          "output_type": "stream",
          "name": "stdout",
          "text": [
            "Transformed data saved!\n"
          ]
        }
      ],
      "execution_count": 5,
      "metadata": {
        "jupyter": {
          "source_hidden": false,
          "outputs_hidden": false
        },
        "nteract": {
          "transient": {
            "deleting": false
          }
        },
        "collapsed": false
      }
    },
    {
      "cell_type": "markdown",
      "source": [
        "In the **files** tab (which should still be open above), navigate to the root **files** container and verify that a new folder named **partitioned_data** has been created, containing a hierachy of folders in the format **Year=*NNNN*** / **Month=*N***, each containing a .parquet file for the orders placed in the corresponding year and month. Then return to this notebook.\r\n",
        "\r\n",
        "You can read this data into a dataframe from any folder in the hierarchy, using explicit values or wildcards for partitioning fields. For example, use the following code to get the sales orders placed in 2020 for all months."
      ],
      "metadata": {
        "nteract": {
          "transient": {
            "deleting": false
          }
        }
      }
    },
    {
      "cell_type": "code",
      "source": [
        "orders_2020 = spark.read.parquet('/partitioned_data/Year=2020/Month=*')\r\n",
        "display(orders_2020.limit(100))"
      ],
      "outputs": [
        {
          "output_type": "display_data",
          "data": {
            "application/vnd.livy.statement-meta+json": {
              "spark_pool": "sparkzs2dea8",
              "session_id": "0",
              "statement_id": 8,
              "state": "finished",
              "livy_statement_state": "available",
              "queued_time": "2024-04-15T12:37:16.274184Z",
              "session_start_time": null,
              "execution_start_time": "2024-04-15T12:37:16.3679759Z",
              "execution_finish_time": "2024-04-15T12:37:18.1507167Z",
              "spark_jobs": null,
              "parent_msg_id": "012bd3f6-7e23-4ded-9f93-39f22a8469c2"
            },
            "text/plain": "StatementMeta(sparkzs2dea8, 0, 8, Finished, Available)"
          },
          "metadata": {}
        },
        {
          "output_type": "display_data",
          "data": {
            "application/vnd.synapse.widget-view+json": {
              "widget_id": "ccbd1f5c-08b2-467f-8619-2d03f979452c",
              "widget_type": "Synapse.DataFrame"
            },
            "text/plain": "SynapseWidget(Synapse.DataFrame, ccbd1f5c-08b2-467f-8619-2d03f979452c)"
          },
          "metadata": {}
        }
      ],
      "execution_count": 7,
      "metadata": {
        "jupyter": {
          "source_hidden": false,
          "outputs_hidden": false
        },
        "nteract": {
          "transient": {
            "deleting": false
          }
        },
        "collapsed": false
      }
    },
    {
      "cell_type": "markdown",
      "source": [
        "Note that the partitioning columns specified in the file path are omitted in the resulting dataframe.\r\n",
        "\r\n",
        "## Use SQL to transform data\r\n",
        "\r\n",
        "Spark is a very flexible platform, and the **SQL** library that provides the dataframe also enables you to work with data using SQL semantics. You can query and transform data in dataframes by using SQL queries, and persist the results as tables - which are metadata abstractions over files.\r\n",
        "\r\n",
        "First, use the following code to save the original sales orders data (loaded from CSV files) as a table. Technically, this is an *external* table because the **path** parameter is used to specify where the data files for the table are stored (an *internal* table is stored in the system storage for the Spark metastore and managed automatically)."
      ],
      "metadata": {
        "nteract": {
          "transient": {
            "deleting": false
          }
        }
      }
    },
    {
      "cell_type": "code",
      "source": [
        "order_details.write.saveAsTable('sales_orders', format='parquet', mode='overwrite', path='/sales_orders_table')"
      ],
      "outputs": [
        {
          "output_type": "display_data",
          "data": {
            "application/vnd.livy.statement-meta+json": {
              "spark_pool": "sparkzs2dea8",
              "session_id": "0",
              "statement_id": 9,
              "state": "finished",
              "livy_statement_state": "available",
              "queued_time": "2024-04-15T12:38:33.2782641Z",
              "session_start_time": null,
              "execution_start_time": "2024-04-15T12:38:33.3969386Z",
              "execution_finish_time": "2024-04-15T12:38:50.7073885Z",
              "spark_jobs": null,
              "parent_msg_id": "b880c44c-41d6-49a2-b286-d1be8eae4cd3"
            },
            "text/plain": "StatementMeta(sparkzs2dea8, 0, 9, Finished, Available)"
          },
          "metadata": {}
        }
      ],
      "execution_count": 8,
      "metadata": {
        "jupyter": {
          "outputs_hidden": false,
          "source_hidden": false
        },
        "microsoft": {},
        "nteract": {
          "transient": {
            "deleting": false
          }
        }
      }
    },
    {
      "cell_type": "markdown",
      "source": [
        "In the **files** tab (which should still be open above), navigate to the root **files** container and verify that a new folder named **sales_orders_table** has been created, containing parquet files for the table data. Then return to this notebook.\r\n",
        "\r\n",
        "Now that the table has been created, you can use SQL to transform it. For example, the following code derives new Year and Month columns and then saves the results as a partitioned external table."
      ],
      "metadata": {
        "nteract": {
          "transient": {
            "deleting": false
          }
        }
      }
    },
    {
      "cell_type": "code",
      "source": [
        "sql_transform = spark.sql(\"SELECT *, YEAR(OrderDate) AS Year, MONTH(OrderDate) AS Month FROM sales_orders\")\r\n",
        "display(sql_transform.limit(5))\r\n",
        "sql_transform.write.partitionBy(\"Year\",\"Month\").saveAsTable('transformed_orders', format='parquet', mode='overwrite', path='/transformed_orders_table')"
      ],
      "outputs": [
        {
          "output_type": "display_data",
          "data": {
            "application/vnd.livy.statement-meta+json": {
              "spark_pool": "sparkzs2dea8",
              "session_id": "0",
              "statement_id": 10,
              "state": "finished",
              "livy_statement_state": "available",
              "queued_time": "2024-04-15T12:40:26.1053131Z",
              "session_start_time": null,
              "execution_start_time": "2024-04-15T12:40:26.2005925Z",
              "execution_finish_time": "2024-04-15T12:40:36.6877807Z",
              "spark_jobs": null,
              "parent_msg_id": "c636ad1b-96c3-43e7-bc01-a09ba2ff9845"
            },
            "text/plain": "StatementMeta(sparkzs2dea8, 0, 10, Finished, Available)"
          },
          "metadata": {}
        },
        {
          "output_type": "display_data",
          "data": {
            "application/vnd.synapse.widget-view+json": {
              "widget_id": "f5b97afd-6ac1-43ea-bfda-6ee00e5c96f4",
              "widget_type": "Synapse.DataFrame"
            },
            "text/plain": "SynapseWidget(Synapse.DataFrame, f5b97afd-6ac1-43ea-bfda-6ee00e5c96f4)"
          },
          "metadata": {}
        }
      ],
      "execution_count": 9,
      "metadata": {
        "jupyter": {
          "source_hidden": false,
          "outputs_hidden": false
        },
        "nteract": {
          "transient": {
            "deleting": false
          }
        },
        "collapsed": false
      }
    },
    {
      "cell_type": "markdown",
      "source": [
        "In the **files** tab (which should still be open above), navigate to the root **files** container and verify that a new folder named **transformed_orders_table** has been created, containing a hierachy of folders in the format **Year=*NNNN*** / **Month=*N***, each containing a .parquet file for the orders placed in the corresponding year and month. Then return to this notebook.\n",
        "\n",
        "Essentially you've performed the same data transformation into partitioned parquet files as s before, but by using SQL instead of native dataframe methods.\n",
        "\n",
        "You can read this data into a dataframe from any folder in the hierarchy as before, but because the data files are also abstracted by a table in the metastore, you can query the data directly using SQL."
      ],
      "metadata": {}
    },
    {
      "cell_type": "code",
      "source": [
        "%%sql\r\n",
        "\r\n",
        "SELECT * FROM transformed_orders\r\n",
        "WHERE Year = 2021\r\n",
        "    AND Month = 1"
      ],
      "outputs": [
        {
          "output_type": "display_data",
          "data": {
            "application/vnd.livy.statement-meta+json": {
              "spark_pool": "sparkzs2dea8",
              "session_id": "0",
              "statement_id": 11,
              "state": "finished",
              "livy_statement_state": "available",
              "queued_time": "2024-04-15T12:46:40.177915Z",
              "session_start_time": null,
              "execution_start_time": "2024-04-15T12:46:40.3013105Z",
              "execution_finish_time": "2024-04-15T12:46:43.0322082Z",
              "spark_jobs": null,
              "parent_msg_id": "6a0f835f-9cda-42d3-a9c9-2bf85f804d54"
            },
            "text/plain": "StatementMeta(sparkzs2dea8, 0, 11, Finished, Available)"
          },
          "metadata": {}
        },
        {
          "output_type": "execute_result",
          "execution_count": 10,
          "data": {
            "application/vnd.synapse.sparksql-result+json": {
              "schema": {
                "type": "struct",
                "fields": [
                  {
                    "name": "SalesOrderNumber",
                    "type": "string",
                    "nullable": true,
                    "metadata": {}
                  },
                  {
                    "name": "SalesOrderLineNumber",
                    "type": "integer",
                    "nullable": true,
                    "metadata": {}
                  },
                  {
                    "name": "OrderDate",
                    "type": "string",
                    "nullable": true,
                    "metadata": {}
                  },
                  {
                    "name": "CustomerName",
                    "type": "string",
                    "nullable": true,
                    "metadata": {}
                  },
                  {
                    "name": "EmailAddress",
                    "type": "string",
                    "nullable": true,
                    "metadata": {}
                  },
                  {
                    "name": "Item",
                    "type": "string",
                    "nullable": true,
                    "metadata": {}
                  },
                  {
                    "name": "Quantity",
                    "type": "integer",
                    "nullable": true,
                    "metadata": {}
                  },
                  {
                    "name": "UnitPrice",
                    "type": "double",
                    "nullable": true,
                    "metadata": {}
                  },
                  {
                    "name": "TaxAmount",
                    "type": "double",
                    "nullable": true,
                    "metadata": {}
                  },
                  {
                    "name": "Year",
                    "type": "integer",
                    "nullable": true,
                    "metadata": {}
                  },
                  {
                    "name": "Month",
                    "type": "integer",
                    "nullable": true,
                    "metadata": {}
                  }
                ]
              },
              "data": [
                [
                  "SO49171",
                  1,
                  "2021-01-01",
                  "Mariah Foster",
                  "mariah21@adventure-works.com",
                  "Road-250 Black, 48",
                  1,
                  2181.5625,
                  174.525,
                  2021,
                  1
                ],
                [
                  "SO49172",
                  1,
                  "2021-01-01",
                  "Brian Howard",
                  "brian23@adventure-works.com",
                  "Road-250 Red, 44",
                  1,
                  2443.35,
                  195.468,
                  2021,
                  1
                ],
                [
                  "SO49173",
                  1,
                  "2021-01-01",
                  "Linda Alvarez",
                  "linda19@adventure-works.com",
                  "Mountain-200 Silver, 38",
                  1,
                  2071.4196,
                  165.7136,
                  2021,
                  1
                ],
                [
                  "SO49174",
                  1,
                  "2021-01-01",
                  "Gina Hernandez",
                  "gina4@adventure-works.com",
                  "Mountain-200 Silver, 42",
                  1,
                  2071.4196,
                  165.7136,
                  2021,
                  1
                ],
                [
                  "SO49178",
                  1,
                  "2021-01-01",
                  "Beth Ruiz",
                  "beth4@adventure-works.com",
                  "Road-550-W Yellow, 44",
                  1,
                  1000.4375,
                  80.035,
                  2021,
                  1
                ],
                [
                  "SO49179",
                  1,
                  "2021-01-01",
                  "Evan Ward",
                  "evan13@adventure-works.com",
                  "Road-550-W Yellow, 38",
                  1,
                  1000.4375,
                  80.035,
                  2021,
                  1
                ],
                [
                  "SO49175",
                  1,
                  "2021-01-01",
                  "Margaret Guo",
                  "margaret24@adventure-works.com",
                  "Road-250 Red, 52",
                  1,
                  2443.35,
                  195.468,
                  2021,
                  1
                ],
                [
                  "SO49180",
                  1,
                  "2021-01-01",
                  "Mitchell Yuan",
                  "mitchell6@adventure-works.com",
                  "Road-650 Black, 58",
                  1,
                  782.99,
                  62.6392,
                  2021,
                  1
                ],
                [
                  "SO49176",
                  1,
                  "2021-01-01",
                  "Shawn Sharma",
                  "shawn11@adventure-works.com",
                  "Mountain-200 Silver, 46",
                  1,
                  2071.4196,
                  165.7136,
                  2021,
                  1
                ],
                [
                  "SO49177",
                  1,
                  "2021-01-01",
                  "Barbara Chande",
                  "barbara44@adventure-works.com",
                  "Mountain-200 Silver, 42",
                  1,
                  2071.4196,
                  165.7136,
                  2021,
                  1
                ],
                [
                  "SO49186",
                  1,
                  "2021-01-02",
                  "Cara Xu",
                  "cara8@adventure-works.com",
                  "Road-250 Red, 52",
                  1,
                  2443.35,
                  195.468,
                  2021,
                  1
                ],
                [
                  "SO49187",
                  1,
                  "2021-01-02",
                  "Lacey Liu",
                  "lacey16@adventure-works.com",
                  "Road-250 Black, 58",
                  1,
                  2181.5625,
                  174.525,
                  2021,
                  1
                ],
                [
                  "SO49190",
                  1,
                  "2021-01-02",
                  "Omar Zhu",
                  "omar13@adventure-works.com",
                  "Road-550-W Yellow, 40",
                  1,
                  1000.4375,
                  80.035,
                  2021,
                  1
                ],
                [
                  "SO49185",
                  1,
                  "2021-01-02",
                  "Cassandra Fernandez",
                  "cassandra17@adventure-works.com",
                  "Mountain-200 Black, 46",
                  1,
                  2049.0982,
                  163.9279,
                  2021,
                  1
                ],
                [
                  "SO49184",
                  1,
                  "2021-01-02",
                  "Monica Martinez",
                  "monica17@adventure-works.com",
                  "Mountain-200 Black, 46",
                  1,
                  2049.0982,
                  163.9279,
                  2021,
                  1
                ],
                [
                  "SO49189",
                  1,
                  "2021-01-02",
                  "Marie Gonzalez",
                  "marie20@adventure-works.com",
                  "Road-650 Black, 48",
                  1,
                  782.99,
                  62.6392,
                  2021,
                  1
                ],
                [
                  "SO49182",
                  1,
                  "2021-01-02",
                  "Alexandra Hall",
                  "alexandra89@adventure-works.com",
                  "Road-250 Red, 48",
                  1,
                  2443.35,
                  195.468,
                  2021,
                  1
                ],
                [
                  "SO49183",
                  1,
                  "2021-01-02",
                  "Alejandro Raji",
                  "alejandro46@adventure-works.com",
                  "Road-250 Red, 52",
                  1,
                  2443.35,
                  195.468,
                  2021,
                  1
                ],
                [
                  "SO49181",
                  1,
                  "2021-01-02",
                  "Derrick Jim�nez",
                  "derrick5@adventure-works.com",
                  "Road-250 Black, 48",
                  1,
                  2181.5625,
                  174.525,
                  2021,
                  1
                ],
                [
                  "SO49188",
                  1,
                  "2021-01-02",
                  "Erin Cox",
                  "erin15@adventure-works.com",
                  "Mountain-200 Black, 38",
                  1,
                  2049.0982,
                  163.9279,
                  2021,
                  1
                ],
                [
                  "SO49192",
                  1,
                  "2021-01-03",
                  "Eugene Sun",
                  "eugene17@adventure-works.com",
                  "Road-550-W Yellow, 44",
                  1,
                  1000.4375,
                  80.035,
                  2021,
                  1
                ],
                [
                  "SO49191",
                  1,
                  "2021-01-03",
                  "Benjamin Thompson",
                  "benjamin52@adventure-works.com",
                  "Road-550-W Yellow, 44",
                  1,
                  1000.4375,
                  80.035,
                  2021,
                  1
                ],
                [
                  "SO49195",
                  1,
                  "2021-01-03",
                  "Barry Malhotra",
                  "barry5@adventure-works.com",
                  "Road-650 Red, 58",
                  1,
                  782.99,
                  62.6392,
                  2021,
                  1
                ],
                [
                  "SO49194",
                  1,
                  "2021-01-03",
                  "Clayton Wagner",
                  "clayton1@adventure-works.com",
                  "Road-650 Black, 60",
                  1,
                  782.99,
                  62.6392,
                  2021,
                  1
                ],
                [
                  "SO49196",
                  1,
                  "2021-01-03",
                  "Katherine Perry",
                  "katherine33@adventure-works.com",
                  "Mountain-200 Silver, 42",
                  1,
                  2071.4196,
                  165.7136,
                  2021,
                  1
                ],
                [
                  "SO49198",
                  1,
                  "2021-01-03",
                  "Lori Alvarez",
                  "lori7@adventure-works.com",
                  "Road-650 Black, 52",
                  1,
                  782.99,
                  62.6392,
                  2021,
                  1
                ],
                [
                  "SO49199",
                  1,
                  "2021-01-03",
                  "Jillian Patel",
                  "jillian3@adventure-works.com",
                  "Road-650 Black, 62",
                  1,
                  782.99,
                  62.6392,
                  2021,
                  1
                ],
                [
                  "SO49193",
                  1,
                  "2021-01-03",
                  "Summer Rodriguez",
                  "summer17@adventure-works.com",
                  "Mountain-200 Black, 42",
                  1,
                  2049.0982,
                  163.9279,
                  2021,
                  1
                ],
                [
                  "SO49197",
                  1,
                  "2021-01-03",
                  "Oscar Flores",
                  "oscar20@adventure-works.com",
                  "Mountain-200 Black, 42",
                  1,
                  2049.0982,
                  163.9279,
                  2021,
                  1
                ],
                [
                  "SO49205",
                  1,
                  "2021-01-04",
                  "Rebekah Serrano",
                  "rebekah36@adventure-works.com",
                  "Mountain-200 Black, 38",
                  1,
                  2049.0982,
                  163.9279,
                  2021,
                  1
                ],
                [
                  "SO49204",
                  1,
                  "2021-01-04",
                  "Monique Blanco",
                  "monique12@adventure-works.com",
                  "Mountain-200 Silver, 38",
                  1,
                  2071.4196,
                  165.7136,
                  2021,
                  1
                ],
                [
                  "SO49212",
                  1,
                  "2021-01-04",
                  "Olivia Coleman",
                  "olivia51@adventure-works.com",
                  "Road-550-W Yellow, 44",
                  1,
                  1000.4375,
                  80.035,
                  2021,
                  1
                ],
                [
                  "SO49210",
                  1,
                  "2021-01-04",
                  "Timothy James",
                  "timothy9@adventure-works.com",
                  "Mountain-200 Silver, 46",
                  1,
                  2071.4196,
                  165.7136,
                  2021,
                  1
                ],
                [
                  "SO49203",
                  1,
                  "2021-01-04",
                  "Louis Ye",
                  "louis3@adventure-works.com",
                  "Road-650 Red, 52",
                  1,
                  782.99,
                  62.6392,
                  2021,
                  1
                ],
                [
                  "SO49201",
                  1,
                  "2021-01-04",
                  "Jaime Diaz",
                  "jaime3@adventure-works.com",
                  "Road-250 Red, 52",
                  1,
                  2443.35,
                  195.468,
                  2021,
                  1
                ],
                [
                  "SO49202",
                  1,
                  "2021-01-04",
                  "Audrey Gutierrez",
                  "audrey12@adventure-works.com",
                  "Road-250 Black, 48",
                  1,
                  2181.5625,
                  174.525,
                  2021,
                  1
                ],
                [
                  "SO49200",
                  1,
                  "2021-01-04",
                  "Blake Taylor",
                  "blake8@adventure-works.com",
                  "Road-250 Red, 44",
                  1,
                  2443.35,
                  195.468,
                  2021,
                  1
                ],
                [
                  "SO49215",
                  1,
                  "2021-01-04",
                  "Kathryn Deng",
                  "kathryn1@adventure-works.com",
                  "Road-650 Red, 62",
                  1,
                  782.99,
                  62.6392,
                  2021,
                  1
                ],
                [
                  "SO49213",
                  1,
                  "2021-01-04",
                  "Anne Martin",
                  "anne1@adventure-works.com",
                  "Road-550-W Yellow, 44",
                  1,
                  1000.4375,
                  80.035,
                  2021,
                  1
                ],
                [
                  "SO49209",
                  1,
                  "2021-01-04",
                  "Dana Suarez",
                  "dana12@adventure-works.com",
                  "Road-250 Red, 58",
                  1,
                  2181.5625,
                  174.525,
                  2021,
                  1
                ],
                [
                  "SO49208",
                  1,
                  "2021-01-04",
                  "Alexis Powell",
                  "alexis31@adventure-works.com",
                  "Road-250 Black, 48",
                  1,
                  2181.5625,
                  174.525,
                  2021,
                  1
                ],
                [
                  "SO49207",
                  1,
                  "2021-01-04",
                  "Jordan Roberts",
                  "jordan58@adventure-works.com",
                  "Road-250 Red, 48",
                  1,
                  2443.35,
                  195.468,
                  2021,
                  1
                ],
                [
                  "SO49206",
                  1,
                  "2021-01-04",
                  "Adam Powell",
                  "adam6@adventure-works.com",
                  "Road-250 Black, 48",
                  1,
                  2181.5625,
                  174.525,
                  2021,
                  1
                ],
                [
                  "SO49214",
                  1,
                  "2021-01-04",
                  "Bobby Ray",
                  "bobby7@adventure-works.com",
                  "Road-250 Black, 58",
                  1,
                  2181.5625,
                  174.525,
                  2021,
                  1
                ],
                [
                  "SO49216",
                  1,
                  "2021-01-04",
                  "Rafael Sun",
                  "rafael14@adventure-works.com",
                  "Road-650 Red, 44",
                  1,
                  782.99,
                  62.6392,
                  2021,
                  1
                ],
                [
                  "SO49211",
                  1,
                  "2021-01-04",
                  "Rachel Perry",
                  "rachel55@adventure-works.com",
                  "Mountain-200 Silver, 42",
                  1,
                  2071.4196,
                  165.7136,
                  2021,
                  1
                ],
                [
                  "SO49221",
                  1,
                  "2021-01-05",
                  "Brett Martinez",
                  "brett17@adventure-works.com",
                  "Road-250 Black, 58",
                  1,
                  2181.5625,
                  174.525,
                  2021,
                  1
                ],
                [
                  "SO49217",
                  1,
                  "2021-01-05",
                  "Russell Sharma",
                  "russell12@adventure-works.com",
                  "Road-250 Black, 52",
                  1,
                  2181.5625,
                  174.525,
                  2021,
                  1
                ],
                [
                  "SO49220",
                  1,
                  "2021-01-05",
                  "Arthur Chandra",
                  "arthur4@adventure-works.com",
                  "Mountain-200 Silver, 38",
                  1,
                  2071.4196,
                  165.7136,
                  2021,
                  1
                ],
                [
                  "SO49219",
                  1,
                  "2021-01-05",
                  "Priscilla Rai",
                  "priscilla16@adventure-works.com",
                  "Mountain-200 Black, 46",
                  1,
                  2049.0982,
                  163.9279,
                  2021,
                  1
                ],
                [
                  "SO49224",
                  1,
                  "2021-01-05",
                  "Sydney Sanders",
                  "sydney22@adventure-works.com",
                  "Mountain-200 Black, 38",
                  1,
                  2049.0982,
                  163.9279,
                  2021,
                  1
                ],
                [
                  "SO49222",
                  1,
                  "2021-01-05",
                  "Chloe Scott",
                  "chloe11@adventure-works.com",
                  "Mountain-200 Silver, 38",
                  1,
                  2071.4196,
                  165.7136,
                  2021,
                  1
                ],
                [
                  "SO49223",
                  1,
                  "2021-01-05",
                  "Jonathan Thompson",
                  "jonathan69@adventure-works.com",
                  "Mountain-200 Black, 42",
                  1,
                  2049.0982,
                  163.9279,
                  2021,
                  1
                ],
                [
                  "SO49218",
                  1,
                  "2021-01-05",
                  "Caitlin Rivera",
                  "caitlin14@adventure-works.com",
                  "Road-250 Black, 58",
                  1,
                  2181.5625,
                  174.525,
                  2021,
                  1
                ],
                [
                  "SO49227",
                  1,
                  "2021-01-06",
                  "Russell Jai",
                  "russell14@adventure-works.com",
                  "Road-250 Red, 48",
                  1,
                  2443.35,
                  195.468,
                  2021,
                  1
                ],
                [
                  "SO49229",
                  1,
                  "2021-01-06",
                  "Denise Martinez",
                  "denise18@adventure-works.com",
                  "Mountain-200 Silver, 46",
                  1,
                  2071.4196,
                  165.7136,
                  2021,
                  1
                ],
                [
                  "SO49234",
                  1,
                  "2021-01-06",
                  "Steven Bell",
                  "steven23@adventure-works.com",
                  "Road-650 Red, 48",
                  1,
                  782.99,
                  62.6392,
                  2021,
                  1
                ],
                [
                  "SO49232",
                  1,
                  "2021-01-06",
                  "Jason Allen",
                  "jason50@adventure-works.com",
                  "Road-650 Red, 58",
                  1,
                  782.99,
                  62.6392,
                  2021,
                  1
                ],
                [
                  "SO49233",
                  1,
                  "2021-01-06",
                  "Calvin Raji",
                  "calvin20@adventure-works.com",
                  "Road-650 Red, 62",
                  1,
                  782.99,
                  62.6392,
                  2021,
                  1
                ],
                [
                  "SO49235",
                  1,
                  "2021-01-06",
                  "Destiny Peterson",
                  "destiny40@adventure-works.com",
                  "Road-650 Red, 58",
                  1,
                  782.99,
                  62.6392,
                  2021,
                  1
                ],
                [
                  "SO49226",
                  1,
                  "2021-01-06",
                  "Bridget Andersen",
                  "bridget15@adventure-works.com",
                  "Road-250 Red, 52",
                  1,
                  2443.35,
                  195.468,
                  2021,
                  1
                ],
                [
                  "SO49225",
                  1,
                  "2021-01-06",
                  "Gilbert Guo",
                  "gilbert15@adventure-works.com",
                  "Road-250 Black, 48",
                  1,
                  2181.5625,
                  174.525,
                  2021,
                  1
                ],
                [
                  "SO49230",
                  1,
                  "2021-01-06",
                  "Taylor Washington",
                  "taylor38@adventure-works.com",
                  "Mountain-200 Black, 38",
                  1,
                  2049.0982,
                  163.9279,
                  2021,
                  1
                ],
                [
                  "SO49238",
                  1,
                  "2021-01-06",
                  "Krystal Zhou",
                  "krystal8@adventure-works.com",
                  "Road-250 Black, 58",
                  1,
                  2181.5625,
                  174.525,
                  2021,
                  1
                ],
                [
                  "SO49237",
                  1,
                  "2021-01-06",
                  "Mandy Lin",
                  "mandy9@adventure-works.com",
                  "Road-550-W Yellow, 42",
                  1,
                  1000.4375,
                  80.035,
                  2021,
                  1
                ],
                [
                  "SO49236",
                  1,
                  "2021-01-06",
                  "Edwin Sharma",
                  "edwin32@adventure-works.com",
                  "Road-550-W Yellow, 48",
                  1,
                  1000.4375,
                  80.035,
                  2021,
                  1
                ],
                [
                  "SO49231",
                  1,
                  "2021-01-06",
                  "Nathan Butler",
                  "nathan10@adventure-works.com",
                  "Mountain-200 Black, 46",
                  1,
                  2049.0982,
                  163.9279,
                  2021,
                  1
                ],
                [
                  "SO49228",
                  1,
                  "2021-01-06",
                  "Chloe Ross",
                  "chloe70@adventure-works.com",
                  "Mountain-200 Black, 42",
                  1,
                  2049.0982,
                  163.9279,
                  2021,
                  1
                ],
                [
                  "SO49245",
                  1,
                  "2021-01-07",
                  "Alberto Hernandez",
                  "alberto5@adventure-works.com",
                  "Road-550-W Yellow, 48",
                  1,
                  1000.4375,
                  80.035,
                  2021,
                  1
                ],
                [
                  "SO49246",
                  1,
                  "2021-01-07",
                  "Bruce Jim�nez",
                  "bruce28@adventure-works.com",
                  "Road-250 Black, 44",
                  1,
                  2181.5625,
                  174.525,
                  2021,
                  1
                ],
                [
                  "SO49242",
                  1,
                  "2021-01-07",
                  "Ronnie Yang",
                  "ronnie4@adventure-works.com",
                  "Road-250 Red, 44",
                  1,
                  2443.35,
                  195.468,
                  2021,
                  1
                ],
                [
                  "SO49244",
                  1,
                  "2021-01-07",
                  "Cody Stewart",
                  "cody22@adventure-works.com",
                  "Mountain-200 Black, 46",
                  1,
                  2049.0982,
                  163.9279,
                  2021,
                  1
                ],
                [
                  "SO49239",
                  1,
                  "2021-01-07",
                  "Roger Shen",
                  "roger29@adventure-works.com",
                  "Mountain-200 Silver, 42",
                  1,
                  2071.4196,
                  165.7136,
                  2021,
                  1
                ],
                [
                  "SO49240",
                  1,
                  "2021-01-07",
                  "Johnny Anand",
                  "johnny23@adventure-works.com",
                  "Mountain-200 Silver, 38",
                  1,
                  2071.4196,
                  165.7136,
                  2021,
                  1
                ],
                [
                  "SO49241",
                  1,
                  "2021-01-07",
                  "Samuel Diaz",
                  "samuel21@adventure-works.com",
                  "Mountain-200 Silver, 42",
                  1,
                  2071.4196,
                  165.7136,
                  2021,
                  1
                ],
                [
                  "SO49243",
                  1,
                  "2021-01-07",
                  "Kristi Sanchez",
                  "kristi38@adventure-works.com",
                  "Mountain-200 Black, 38",
                  1,
                  2049.0982,
                  163.9279,
                  2021,
                  1
                ],
                [
                  "SO49251",
                  1,
                  "2021-01-08",
                  "Sarah Gonzales",
                  "sarah41@adventure-works.com",
                  "Road-250 Black, 52",
                  1,
                  2181.5625,
                  174.525,
                  2021,
                  1
                ],
                [
                  "SO49256",
                  1,
                  "2021-01-08",
                  "Raquel Hernandez",
                  "raquel2@adventure-works.com",
                  "Mountain-200 Silver, 42",
                  1,
                  2071.4196,
                  165.7136,
                  2021,
                  1
                ],
                [
                  "SO49253",
                  1,
                  "2021-01-08",
                  "Emma Bradley",
                  "emma31@adventure-works.com",
                  "Mountain-200 Black, 42",
                  1,
                  2049.0982,
                  163.9279,
                  2021,
                  1
                ],
                [
                  "SO49254",
                  1,
                  "2021-01-08",
                  "Edwin Zheng",
                  "edwin20@adventure-works.com",
                  "Mountain-200 Black, 38",
                  1,
                  2049.0982,
                  163.9279,
                  2021,
                  1
                ],
                [
                  "SO49252",
                  1,
                  "2021-01-08",
                  "Brianna Sanchez",
                  "brianna25@adventure-works.com",
                  "Mountain-200 Silver, 38",
                  1,
                  2071.4196,
                  165.7136,
                  2021,
                  1
                ],
                [
                  "SO49250",
                  1,
                  "2021-01-08",
                  "Jeremy Rogers",
                  "jeremy45@adventure-works.com",
                  "Road-650 Black, 52",
                  1,
                  782.99,
                  62.6392,
                  2021,
                  1
                ],
                [
                  "SO49247",
                  1,
                  "2021-01-08",
                  "Kathleen Alvarez",
                  "kathleen6@adventure-works.com",
                  "Road-250 Red, 48",
                  1,
                  2443.35,
                  195.468,
                  2021,
                  1
                ],
                [
                  "SO49248",
                  1,
                  "2021-01-08",
                  "Jake Xu",
                  "jake11@adventure-works.com",
                  "Road-550-W Yellow, 44",
                  1,
                  1000.4375,
                  80.035,
                  2021,
                  1
                ],
                [
                  "SO49249",
                  1,
                  "2021-01-08",
                  "Tommy Raje",
                  "tommy10@adventure-works.com",
                  "Road-550-W Yellow, 42",
                  1,
                  1000.4375,
                  80.035,
                  2021,
                  1
                ],
                [
                  "SO49255",
                  1,
                  "2021-01-08",
                  "Jonathan Yang",
                  "jonathan26@adventure-works.com",
                  "Road-650 Red, 44",
                  1,
                  782.99,
                  62.6392,
                  2021,
                  1
                ],
                [
                  "SO49257",
                  1,
                  "2021-01-08",
                  "Amber Adams",
                  "amber16@adventure-works.com",
                  "Road-650 Red, 58",
                  1,
                  782.99,
                  62.6392,
                  2021,
                  1
                ],
                [
                  "SO49258",
                  1,
                  "2021-01-09",
                  "Valerie Zhou",
                  "valerie10@adventure-works.com",
                  "Road-250 Red, 44",
                  1,
                  2443.35,
                  195.468,
                  2021,
                  1
                ],
                [
                  "SO49262",
                  1,
                  "2021-01-09",
                  "Cedric Ye",
                  "cedric10@adventure-works.com",
                  "Road-650 Black, 58",
                  1,
                  782.99,
                  62.6392,
                  2021,
                  1
                ],
                [
                  "SO49263",
                  1,
                  "2021-01-09",
                  "Jose Shan",
                  "jose25@adventure-works.com",
                  "Road-650 Black, 52",
                  1,
                  782.99,
                  62.6392,
                  2021,
                  1
                ],
                [
                  "SO49265",
                  1,
                  "2021-01-09",
                  "Manuel Lopez",
                  "manuel15@adventure-works.com",
                  "Mountain-200 Silver, 46",
                  1,
                  2071.4196,
                  165.7136,
                  2021,
                  1
                ],
                [
                  "SO49266",
                  1,
                  "2021-01-09",
                  "Nathaniel Rivera",
                  "nathaniel18@adventure-works.com",
                  "Mountain-200 Black, 46",
                  1,
                  2049.0982,
                  163.9279,
                  2021,
                  1
                ],
                [
                  "SO49264",
                  1,
                  "2021-01-09",
                  "Cheryl Sanz",
                  "cheryl23@adventure-works.com",
                  "Mountain-200 Silver, 46",
                  1,
                  2071.4196,
                  165.7136,
                  2021,
                  1
                ],
                [
                  "SO49267",
                  1,
                  "2021-01-09",
                  "Javier Navarro",
                  "javier4@adventure-works.com",
                  "Mountain-200 Silver, 46",
                  1,
                  2071.4196,
                  165.7136,
                  2021,
                  1
                ],
                [
                  "SO49260",
                  1,
                  "2021-01-09",
                  "Brett Sanchez",
                  "brett20@adventure-works.com",
                  "Mountain-200 Black, 46",
                  1,
                  2049.0982,
                  163.9279,
                  2021,
                  1
                ],
                [
                  "SO49261",
                  1,
                  "2021-01-09",
                  "Linda Carlson",
                  "linda33@adventure-works.com",
                  "Mountain-200 Black, 42",
                  1,
                  2049.0982,
                  163.9279,
                  2021,
                  1
                ],
                [
                  "SO49268",
                  1,
                  "2021-01-09",
                  "Mackenzie James",
                  "mackenzie6@adventure-works.com",
                  "Mountain-200 Silver, 46",
                  1,
                  2071.4196,
                  165.7136,
                  2021,
                  1
                ],
                [
                  "SO49259",
                  1,
                  "2021-01-09",
                  "Walter Ramos",
                  "walter10@adventure-works.com",
                  "Mountain-200 Black, 42",
                  1,
                  2049.0982,
                  163.9279,
                  2021,
                  1
                ],
                [
                  "SO49271",
                  1,
                  "2021-01-10",
                  "Kevin Simmons",
                  "kevin18@adventure-works.com",
                  "Mountain-200 Silver, 42",
                  1,
                  2071.4196,
                  165.7136,
                  2021,
                  1
                ],
                [
                  "SO49272",
                  1,
                  "2021-01-10",
                  "Alejandro Kumar",
                  "alejandro34@adventure-works.com",
                  "Mountain-200 Black, 46",
                  1,
                  2049.0982,
                  163.9279,
                  2021,
                  1
                ],
                [
                  "SO49269",
                  1,
                  "2021-01-10",
                  "Jada Rogers",
                  "jada11@adventure-works.com",
                  "Road-250 Black, 44",
                  1,
                  2181.5625,
                  174.525,
                  2021,
                  1
                ],
                [
                  "SO49273",
                  1,
                  "2021-01-10",
                  "Nicole Ward",
                  "nicole39@adventure-works.com",
                  "Mountain-200 Silver, 38",
                  1,
                  2071.4196,
                  165.7136,
                  2021,
                  1
                ],
                [
                  "SO49274",
                  1,
                  "2021-01-10",
                  "Jennifer Ramirez",
                  "jennifer69@adventure-works.com",
                  "Mountain-200 Black, 46",
                  1,
                  2049.0982,
                  163.9279,
                  2021,
                  1
                ],
                [
                  "SO49275",
                  1,
                  "2021-01-10",
                  "Curtis Zheng",
                  "curtis16@adventure-works.com",
                  "Road-250 Red, 44",
                  1,
                  2443.35,
                  195.468,
                  2021,
                  1
                ],
                [
                  "SO49270",
                  1,
                  "2021-01-10",
                  "Melinda Gutierrez",
                  "melinda6@adventure-works.com",
                  "Mountain-200 Silver, 38",
                  1,
                  2071.4196,
                  165.7136,
                  2021,
                  1
                ],
                [
                  "SO49276",
                  1,
                  "2021-01-11",
                  "Wesley He",
                  "wesley18@adventure-works.com",
                  "Road-250 Black, 58",
                  1,
                  2181.5625,
                  174.525,
                  2021,
                  1
                ],
                [
                  "SO49279",
                  1,
                  "2021-01-11",
                  "Tanya Ramos",
                  "tanya14@adventure-works.com",
                  "Mountain-200 Black, 46",
                  1,
                  2049.0982,
                  163.9279,
                  2021,
                  1
                ],
                [
                  "SO49278",
                  1,
                  "2021-01-11",
                  "Madison Foster",
                  "madison28@adventure-works.com",
                  "Mountain-200 Black, 38",
                  1,
                  2049.0982,
                  163.9279,
                  2021,
                  1
                ],
                [
                  "SO49277",
                  1,
                  "2021-01-11",
                  "Nathan Hill",
                  "nathan42@adventure-works.com",
                  "Mountain-200 Silver, 38",
                  1,
                  2071.4196,
                  165.7136,
                  2021,
                  1
                ],
                [
                  "SO49287",
                  1,
                  "2021-01-12",
                  "Rebekah Garcia",
                  "rebekah14@adventure-works.com",
                  "Mountain-200 Silver, 46",
                  1,
                  2071.4196,
                  165.7136,
                  2021,
                  1
                ],
                [
                  "SO49282",
                  1,
                  "2021-01-12",
                  "Ricardo Kumar",
                  "ricardo7@adventure-works.com",
                  "Mountain-200 Black, 46",
                  1,
                  2049.0982,
                  163.9279,
                  2021,
                  1
                ],
                [
                  "SO49288",
                  1,
                  "2021-01-12",
                  "Isaac Cook",
                  "isaac21@adventure-works.com",
                  "Mountain-200 Silver, 42",
                  1,
                  2071.4196,
                  165.7136,
                  2021,
                  1
                ],
                [
                  "SO49283",
                  1,
                  "2021-01-12",
                  "Latasha Romero",
                  "latasha9@adventure-works.com",
                  "Mountain-200 Silver, 38",
                  1,
                  2071.4196,
                  165.7136,
                  2021,
                  1
                ],
                [
                  "SO49280",
                  1,
                  "2021-01-12",
                  "Ronnie Ma",
                  "ronnie14@adventure-works.com",
                  "Road-250 Red, 44",
                  1,
                  2443.35,
                  195.468,
                  2021,
                  1
                ],
                [
                  "SO49281",
                  1,
                  "2021-01-12",
                  "Tanya Blanco",
                  "tanya12@adventure-works.com",
                  "Road-650 Black, 52",
                  1,
                  782.99,
                  62.6392,
                  2021,
                  1
                ],
                [
                  "SO49284",
                  1,
                  "2021-01-12",
                  "Tanya Munoz",
                  "tanya3@adventure-works.com",
                  "Road-250 Black, 48",
                  1,
                  2181.5625,
                  174.525,
                  2021,
                  1
                ],
                [
                  "SO49285",
                  1,
                  "2021-01-12",
                  "Robert Henderson",
                  "robert18@adventure-works.com",
                  "Mountain-200 Silver, 46",
                  1,
                  2071.4196,
                  165.7136,
                  2021,
                  1
                ],
                [
                  "SO49286",
                  1,
                  "2021-01-12",
                  "Chloe Turner",
                  "chloe2@adventure-works.com",
                  "Mountain-200 Silver, 38",
                  1,
                  2071.4196,
                  165.7136,
                  2021,
                  1
                ],
                [
                  "SO49289",
                  1,
                  "2021-01-12",
                  "Stacey She",
                  "stacey24@adventure-works.com",
                  "Road-650 Red, 52",
                  1,
                  782.99,
                  62.6392,
                  2021,
                  1
                ],
                [
                  "SO49299",
                  1,
                  "2021-01-13",
                  "Rafael Nath",
                  "rafael42@adventure-works.com",
                  "Road-250 Black, 52",
                  1,
                  2181.5625,
                  174.525,
                  2021,
                  1
                ],
                [
                  "SO49291",
                  1,
                  "2021-01-13",
                  "Bridget Raje",
                  "bridget16@adventure-works.com",
                  "Road-550-W Yellow, 44",
                  1,
                  1000.4375,
                  80.035,
                  2021,
                  1
                ],
                [
                  "SO49292",
                  1,
                  "2021-01-13",
                  "Joe Patel",
                  "joe7@adventure-works.com",
                  "Road-550-W Yellow, 48",
                  1,
                  1000.4375,
                  80.035,
                  2021,
                  1
                ],
                [
                  "SO49290",
                  1,
                  "2021-01-13",
                  "Jenny Zeng",
                  "jenny24@adventure-works.com",
                  "Road-250 Red, 48",
                  1,
                  2443.35,
                  195.468,
                  2021,
                  1
                ],
                [
                  "SO49298",
                  1,
                  "2021-01-13",
                  "Jenny Tang",
                  "jenny27@adventure-works.com",
                  "Mountain-200 Silver, 46",
                  1,
                  2071.4196,
                  165.7136,
                  2021,
                  1
                ],
                [
                  "SO49300",
                  1,
                  "2021-01-13",
                  "Roberto Gill",
                  "roberto14@adventure-works.com",
                  "Road-550-W Yellow, 40",
                  1,
                  1000.4375,
                  80.035,
                  2021,
                  1
                ],
                [
                  "SO49294",
                  1,
                  "2021-01-13",
                  "Mariah Russell",
                  "mariah24@adventure-works.com",
                  "Road-250 Red, 44",
                  1,
                  2443.35,
                  195.468,
                  2021,
                  1
                ],
                [
                  "SO49297",
                  1,
                  "2021-01-13",
                  "Lacey Zhang",
                  "lacey12@adventure-works.com",
                  "Mountain-200 Black, 38",
                  1,
                  2049.0982,
                  163.9279,
                  2021,
                  1
                ],
                [
                  "SO49296",
                  1,
                  "2021-01-13",
                  "Thomas Moore",
                  "thomas69@adventure-works.com",
                  "Mountain-200 Silver, 46",
                  1,
                  2071.4196,
                  165.7136,
                  2021,
                  1
                ],
                [
                  "SO49293",
                  1,
                  "2021-01-13",
                  "Felicia Blanco",
                  "felicia15@adventure-works.com",
                  "Mountain-200 Black, 38",
                  1,
                  2049.0982,
                  163.9279,
                  2021,
                  1
                ],
                [
                  "SO49295",
                  1,
                  "2021-01-13",
                  "Casey Kumar",
                  "casey8@adventure-works.com",
                  "Mountain-200 Black, 46",
                  1,
                  2049.0982,
                  163.9279,
                  2021,
                  1
                ],
                [
                  "SO49307",
                  1,
                  "2021-01-14",
                  "Jack Li",
                  "jack27@adventure-works.com",
                  "Mountain-200 Black, 38",
                  1,
                  2049.0982,
                  163.9279,
                  2021,
                  1
                ],
                [
                  "SO49308",
                  1,
                  "2021-01-14",
                  "Ian Harris",
                  "ian13@adventure-works.com",
                  "Mountain-200 Silver, 38",
                  1,
                  2071.4196,
                  165.7136,
                  2021,
                  1
                ],
                [
                  "SO49306",
                  1,
                  "2021-01-14",
                  "Rachel Taylor",
                  "rachel11@adventure-works.com",
                  "Road-250 Black, 44",
                  1,
                  2181.5625,
                  174.525,
                  2021,
                  1
                ],
                [
                  "SO49305",
                  1,
                  "2021-01-14",
                  "Mya Butler",
                  "mya14@adventure-works.com",
                  "Road-250 Red, 58",
                  1,
                  2181.5625,
                  174.525,
                  2021,
                  1
                ],
                [
                  "SO49309",
                  1,
                  "2021-01-14",
                  "Mario Rai",
                  "mario16@adventure-works.com",
                  "Road-550-W Yellow, 38",
                  1,
                  1000.4375,
                  80.035,
                  2021,
                  1
                ],
                [
                  "SO49303",
                  1,
                  "2021-01-14",
                  "Franklin Xu",
                  "franklin23@adventure-works.com",
                  "Road-250 Black, 52",
                  1,
                  2181.5625,
                  174.525,
                  2021,
                  1
                ],
                [
                  "SO49310",
                  1,
                  "2021-01-14",
                  "Megan Rivera",
                  "megan37@adventure-works.com",
                  "Road-650 Black, 62",
                  1,
                  782.99,
                  62.6392,
                  2021,
                  1
                ],
                [
                  "SO49302",
                  1,
                  "2021-01-14",
                  "Ann Lopez",
                  "ann21@adventure-works.com",
                  "Road-250 Red, 58",
                  1,
                  2181.5625,
                  174.525,
                  2021,
                  1
                ],
                [
                  "SO49301",
                  1,
                  "2021-01-14",
                  "Kristi Sai",
                  "kristi22@adventure-works.com",
                  "Road-250 Black, 52",
                  1,
                  2181.5625,
                  174.525,
                  2021,
                  1
                ],
                [
                  "SO49304",
                  1,
                  "2021-01-14",
                  "Kelsey Rai",
                  "kelsey16@adventure-works.com",
                  "Road-550-W Yellow, 38",
                  1,
                  1000.4375,
                  80.035,
                  2021,
                  1
                ],
                [
                  "SO49311",
                  1,
                  "2021-01-14",
                  "Derek Chande",
                  "derek13@adventure-works.com",
                  "Road-650 Black, 60",
                  1,
                  782.99,
                  62.6392,
                  2021,
                  1
                ],
                [
                  "SO49312",
                  1,
                  "2021-01-15",
                  "Xavier Anderson",
                  "xavier7@adventure-works.com",
                  "Road-250 Red, 48",
                  1,
                  2443.35,
                  195.468,
                  2021,
                  1
                ],
                [
                  "SO49317",
                  1,
                  "2021-01-15",
                  "Ian King",
                  "ian25@adventure-works.com",
                  "Road-550-W Yellow, 38",
                  1,
                  1000.4375,
                  80.035,
                  2021,
                  1
                ],
                [
                  "SO49314",
                  1,
                  "2021-01-15",
                  "Robyn Munoz",
                  "robyn5@adventure-works.com",
                  "Mountain-200 Black, 46",
                  1,
                  2049.0982,
                  163.9279,
                  2021,
                  1
                ],
                [
                  "SO49315",
                  1,
                  "2021-01-15",
                  "Stacey Yang",
                  "stacey5@adventure-works.com",
                  "Mountain-200 Black, 46",
                  1,
                  2049.0982,
                  163.9279,
                  2021,
                  1
                ],
                [
                  "SO49313",
                  1,
                  "2021-01-15",
                  "Nathan Wang",
                  "nathan21@adventure-works.com",
                  "Mountain-200 Black, 38",
                  1,
                  2049.0982,
                  163.9279,
                  2021,
                  1
                ],
                [
                  "SO49316",
                  1,
                  "2021-01-15",
                  "Pedro Mu�oz",
                  "pedro28@adventure-works.com",
                  "Road-250 Black, 58",
                  1,
                  2181.5625,
                  174.525,
                  2021,
                  1
                ],
                [
                  "SO49320",
                  1,
                  "2021-01-15",
                  "Naomi Ruiz",
                  "naomi2@adventure-works.com",
                  "Road-250 Black, 44",
                  1,
                  2181.5625,
                  174.525,
                  2021,
                  1
                ],
                [
                  "SO49319",
                  1,
                  "2021-01-15",
                  "Patricia Perez",
                  "patricia22@adventure-works.com",
                  "Road-550-W Yellow, 44",
                  1,
                  1000.4375,
                  80.035,
                  2021,
                  1
                ],
                [
                  "SO49322",
                  1,
                  "2021-01-15",
                  "Candice Cai",
                  "candice5@adventure-works.com",
                  "Road-650 Red, 48",
                  1,
                  782.99,
                  62.6392,
                  2021,
                  1
                ],
                [
                  "SO49321",
                  1,
                  "2021-01-15",
                  "Taylor Flores",
                  "taylor37@adventure-works.com",
                  "Mountain-200 Silver, 46",
                  1,
                  2071.4196,
                  165.7136,
                  2021,
                  1
                ],
                [
                  "SO49318",
                  1,
                  "2021-01-15",
                  "Emily Davis",
                  "emily5@adventure-works.com",
                  "Road-650 Black, 58",
                  1,
                  782.99,
                  62.6392,
                  2021,
                  1
                ],
                [
                  "SO49325",
                  1,
                  "2021-01-16",
                  "Christy Ye",
                  "christy9@adventure-works.com",
                  "Mountain-200 Silver, 46",
                  1,
                  2071.4196,
                  165.7136,
                  2021,
                  1
                ],
                [
                  "SO49323",
                  1,
                  "2021-01-16",
                  "Shannon Torres",
                  "shannon33@adventure-works.com",
                  "Mountain-200 Black, 46",
                  1,
                  2049.0982,
                  163.9279,
                  2021,
                  1
                ],
                [
                  "SO49324",
                  1,
                  "2021-01-16",
                  "Ruth Suri",
                  "ruth6@adventure-works.com",
                  "Mountain-200 Silver, 38",
                  1,
                  2071.4196,
                  165.7136,
                  2021,
                  1
                ],
                [
                  "SO49326",
                  1,
                  "2021-01-16",
                  "Hunter Garcia",
                  "hunter48@adventure-works.com",
                  "Mountain-200 Black, 42",
                  1,
                  2049.0982,
                  163.9279,
                  2021,
                  1
                ],
                [
                  "SO49328",
                  1,
                  "2021-01-17",
                  "Casey Nara",
                  "casey18@adventure-works.com",
                  "Road-250 Black, 44",
                  1,
                  2181.5625,
                  174.525,
                  2021,
                  1
                ],
                [
                  "SO49329",
                  1,
                  "2021-01-17",
                  "Stephanie King",
                  "stephanie64@adventure-works.com",
                  "Road-550-W Yellow, 44",
                  1,
                  1000.4375,
                  80.035,
                  2021,
                  1
                ],
                [
                  "SO49327",
                  1,
                  "2021-01-17",
                  "Darryl Ye",
                  "darryl9@adventure-works.com",
                  "Road-250 Red, 48",
                  1,
                  2443.35,
                  195.468,
                  2021,
                  1
                ],
                [
                  "SO49330",
                  1,
                  "2021-01-17",
                  "Jill Suarez",
                  "jill27@adventure-works.com",
                  "Mountain-200 Silver, 42",
                  1,
                  2071.4196,
                  165.7136,
                  2021,
                  1
                ],
                [
                  "SO49331",
                  1,
                  "2021-01-17",
                  "Jacquelyn Gutierrez",
                  "jacquelyn11@adventure-works.com",
                  "Mountain-200 Black, 38",
                  1,
                  2049.0982,
                  163.9279,
                  2021,
                  1
                ],
                [
                  "SO49332",
                  1,
                  "2021-01-17",
                  "Patrick Sands",
                  "patrick4@adventure-works.com",
                  "Mountain-200 Silver, 38",
                  1,
                  2071.4196,
                  165.7136,
                  2021,
                  1
                ],
                [
                  "SO49334",
                  1,
                  "2021-01-17",
                  "Brandon Ross",
                  "brandon1@adventure-works.com",
                  "Mountain-200 Black, 42",
                  1,
                  2049.0982,
                  163.9279,
                  2021,
                  1
                ],
                [
                  "SO49333",
                  1,
                  "2021-01-17",
                  "Lisa Huang",
                  "lisa9@adventure-works.com",
                  "Mountain-200 Silver, 42",
                  1,
                  2071.4196,
                  165.7136,
                  2021,
                  1
                ],
                [
                  "SO49338",
                  1,
                  "2021-01-17",
                  "Alisha Guo",
                  "alisha18@adventure-works.com",
                  "Road-250 Red, 48",
                  1,
                  2443.35,
                  195.468,
                  2021,
                  1
                ],
                [
                  "SO49336",
                  1,
                  "2021-01-17",
                  "Steve Liu",
                  "steve8@adventure-works.com",
                  "Road-250 Black, 52",
                  1,
                  2181.5625,
                  174.525,
                  2021,
                  1
                ],
                [
                  "SO49335",
                  1,
                  "2021-01-17",
                  "Jenny Kumar",
                  "jenny31@adventure-works.com",
                  "Road-250 Black, 48",
                  1,
                  2181.5625,
                  174.525,
                  2021,
                  1
                ],
                [
                  "SO49337",
                  1,
                  "2021-01-17",
                  "Jade Kelly",
                  "jade1@adventure-works.com",
                  "Mountain-200 Black, 46",
                  1,
                  2049.0982,
                  163.9279,
                  2021,
                  1
                ],
                [
                  "SO49347",
                  1,
                  "2021-01-18",
                  "Darren Munoz",
                  "darren29@adventure-works.com",
                  "Road-250 Red, 48",
                  1,
                  2443.35,
                  195.468,
                  2021,
                  1
                ],
                [
                  "SO49348",
                  1,
                  "2021-01-18",
                  "Francis Serrano",
                  "francis14@adventure-works.com",
                  "Road-250 Red, 48",
                  1,
                  2443.35,
                  195.468,
                  2021,
                  1
                ],
                [
                  "SO49345",
                  1,
                  "2021-01-18",
                  "Ricky Alonso",
                  "ricky8@adventure-works.com",
                  "Mountain-200 Black, 46",
                  1,
                  2049.0982,
                  163.9279,
                  2021,
                  1
                ],
                [
                  "SO49344",
                  1,
                  "2021-01-18",
                  "Wyatt Mitchell",
                  "wyatt40@adventure-works.com",
                  "Mountain-200 Silver, 38",
                  1,
                  2071.4196,
                  165.7136,
                  2021,
                  1
                ],
                [
                  "SO49343",
                  1,
                  "2021-01-18",
                  "Melinda Torres",
                  "melinda7@adventure-works.com",
                  "Mountain-200 Silver, 46",
                  1,
                  2071.4196,
                  165.7136,
                  2021,
                  1
                ],
                [
                  "SO49346",
                  1,
                  "2021-01-18",
                  "Karl Kumar",
                  "karl8@adventure-works.com",
                  "Mountain-200 Black, 46",
                  1,
                  2049.0982,
                  163.9279,
                  2021,
                  1
                ],
                [
                  "SO49342",
                  1,
                  "2021-01-18",
                  "Jillian Fernandez",
                  "jillian16@adventure-works.com",
                  "Mountain-200 Silver, 46",
                  1,
                  2071.4196,
                  165.7136,
                  2021,
                  1
                ],
                [
                  "SO49341",
                  1,
                  "2021-01-18",
                  "Jill Ashe",
                  "jill12@adventure-works.com",
                  "Road-550-W Yellow, 38",
                  1,
                  1000.4375,
                  80.035,
                  2021,
                  1
                ],
                [
                  "SO49339",
                  1,
                  "2021-01-18",
                  "Shane Sanchez",
                  "shane23@adventure-works.com",
                  "Road-250 Red, 44",
                  1,
                  2443.35,
                  195.468,
                  2021,
                  1
                ],
                [
                  "SO49340",
                  1,
                  "2021-01-18",
                  "Tyrone Rubio",
                  "tyrone20@adventure-works.com",
                  "Road-250 Black, 48",
                  1,
                  2181.5625,
                  174.525,
                  2021,
                  1
                ],
                [
                  "SO49350",
                  1,
                  "2021-01-18",
                  "Cassidy Wood",
                  "cassidy2@adventure-works.com",
                  "Road-650 Red, 52",
                  1,
                  782.99,
                  62.6392,
                  2021,
                  1
                ],
                [
                  "SO49349",
                  1,
                  "2021-01-18",
                  "Angel Brooks",
                  "angel0@adventure-works.com",
                  "Mountain-200 Black, 42",
                  1,
                  2049.0982,
                  163.9279,
                  2021,
                  1
                ],
                [
                  "SO49351",
                  1,
                  "2021-01-18",
                  "Austin Alexander",
                  "austin15@adventure-works.com",
                  "Road-650 Red, 48",
                  1,
                  782.99,
                  62.6392,
                  2021,
                  1
                ],
                [
                  "SO49361",
                  1,
                  "2021-01-19",
                  "Mandy Chen",
                  "mandy3@adventure-works.com",
                  "Road-250 Black, 44",
                  1,
                  2181.5625,
                  174.525,
                  2021,
                  1
                ],
                [
                  "SO49352",
                  1,
                  "2021-01-19",
                  "Morgan Smith",
                  "morgan23@adventure-works.com",
                  "Road-250 Black, 48",
                  1,
                  2181.5625,
                  174.525,
                  2021,
                  1
                ],
                [
                  "SO49353",
                  1,
                  "2021-01-19",
                  "Brian Sanchez",
                  "brian29@adventure-works.com",
                  "Road-650 Red, 62",
                  1,
                  782.99,
                  62.6392,
                  2021,
                  1
                ],
                [
                  "SO49359",
                  1,
                  "2021-01-19",
                  "Xavier Turner",
                  "xavier37@adventure-works.com",
                  "Road-550-W Yellow, 42",
                  1,
                  1000.4375,
                  80.035,
                  2021,
                  1
                ],
                [
                  "SO49355",
                  1,
                  "2021-01-19",
                  "Ruben Suarez",
                  "ruben42@adventure-works.com",
                  "Mountain-200 Black, 46",
                  1,
                  2049.0982,
                  163.9279,
                  2021,
                  1
                ],
                [
                  "SO49354",
                  1,
                  "2021-01-19",
                  "Brandon Lal",
                  "brandon26@adventure-works.com",
                  "Road-250 Black, 44",
                  1,
                  2181.5625,
                  174.525,
                  2021,
                  1
                ],
                [
                  "SO49356",
                  1,
                  "2021-01-19",
                  "Bruce Lopez",
                  "bruce16@adventure-works.com",
                  "Road-250 Red, 48",
                  1,
                  2443.35,
                  195.468,
                  2021,
                  1
                ],
                [
                  "SO49357",
                  1,
                  "2021-01-19",
                  "Justin Martin",
                  "justin42@adventure-works.com",
                  "Road-250 Black, 52",
                  1,
                  2181.5625,
                  174.525,
                  2021,
                  1
                ],
                [
                  "SO49360",
                  1,
                  "2021-01-19",
                  "Gabriella Perez",
                  "gabriella35@adventure-works.com",
                  "Mountain-200 Black, 38",
                  1,
                  2049.0982,
                  163.9279,
                  2021,
                  1
                ],
                [
                  "SO49358",
                  1,
                  "2021-01-19",
                  "Dakota Russell",
                  "dakota16@adventure-works.com",
                  "Mountain-200 Silver, 46",
                  1,
                  2071.4196,
                  165.7136,
                  2021,
                  1
                ],
                [
                  "SO49366",
                  1,
                  "2021-01-20",
                  "Kathryn Jai",
                  "kathryn10@adventure-works.com",
                  "Road-250 Black, 52",
                  1,
                  2181.5625,
                  174.525,
                  2021,
                  1
                ],
                [
                  "SO49365",
                  1,
                  "2021-01-20",
                  "Kendra Munoz",
                  "kendra7@adventure-works.com",
                  "Road-250 Red, 44",
                  1,
                  2443.35,
                  195.468,
                  2021,
                  1
                ],
                [
                  "SO49364",
                  1,
                  "2021-01-20",
                  "Katie Nath",
                  "katie21@adventure-works.com",
                  "Road-250 Black, 58",
                  1,
                  2181.5625,
                  174.525,
                  2021,
                  1
                ],
                [
                  "SO49370",
                  1,
                  "2021-01-20",
                  "Ebony Hernandez",
                  "ebony26@adventure-works.com",
                  "Road-250 Black, 58",
                  1,
                  2181.5625,
                  174.525,
                  2021,
                  1
                ],
                [
                  "SO49363",
                  1,
                  "2021-01-20",
                  "Madison Clark",
                  "madison20@adventure-works.com",
                  "Mountain-200 Black, 42",
                  1,
                  2049.0982,
                  163.9279,
                  2021,
                  1
                ],
                [
                  "SO49362",
                  1,
                  "2021-01-20",
                  "Micheal Rubio",
                  "micheal17@adventure-works.com",
                  "Mountain-200 Black, 38",
                  1,
                  2049.0982,
                  163.9279,
                  2021,
                  1
                ],
                [
                  "SO49369",
                  1,
                  "2021-01-20",
                  "Tyler Lewis",
                  "tyler21@adventure-works.com",
                  "Road-650 Black, 52",
                  1,
                  782.99,
                  62.6392,
                  2021,
                  1
                ],
                [
                  "SO49368",
                  1,
                  "2021-01-20",
                  "Lucas Ramirez",
                  "lucas79@adventure-works.com",
                  "Road-650 Red, 62",
                  1,
                  782.99,
                  62.6392,
                  2021,
                  1
                ],
                [
                  "SO49367",
                  1,
                  "2021-01-20",
                  "Yolanda Rai",
                  "yolanda16@adventure-works.com",
                  "Mountain-200 Black, 46",
                  1,
                  2049.0982,
                  163.9279,
                  2021,
                  1
                ],
                [
                  "SO49371",
                  1,
                  "2021-01-20",
                  "Joanna Serrano",
                  "joanna15@adventure-works.com",
                  "Road-650 Red, 48",
                  1,
                  782.99,
                  62.6392,
                  2021,
                  1
                ],
                [
                  "SO49380",
                  1,
                  "2021-01-21",
                  "Andrea Baker",
                  "andrea38@adventure-works.com",
                  "Road-650 Black, 62",
                  1,
                  782.99,
                  62.6392,
                  2021,
                  1
                ],
                [
                  "SO49381",
                  1,
                  "2021-01-21",
                  "Ivan Lopez",
                  "ivan13@adventure-works.com",
                  "Road-650 Black, 58",
                  1,
                  782.99,
                  62.6392,
                  2021,
                  1
                ],
                [
                  "SO49372",
                  1,
                  "2021-01-21",
                  "Bianca Liang",
                  "bianca13@adventure-works.com",
                  "Road-250 Red, 48",
                  1,
                  2443.35,
                  195.468,
                  2021,
                  1
                ],
                [
                  "SO49373",
                  1,
                  "2021-01-21",
                  "Deanna Hernandez",
                  "deanna29@adventure-works.com",
                  "Road-550-W Yellow, 40",
                  1,
                  1000.4375,
                  80.035,
                  2021,
                  1
                ],
                [
                  "SO49374",
                  1,
                  "2021-01-21",
                  "Laura Li",
                  "laura10@adventure-works.com",
                  "Road-650 Black, 58",
                  1,
                  782.99,
                  62.6392,
                  2021,
                  1
                ],
                [
                  "SO49376",
                  1,
                  "2021-01-21",
                  "Shane Gonzalez",
                  "shane21@adventure-works.com",
                  "Mountain-200 Silver, 42",
                  1,
                  2071.4196,
                  165.7136,
                  2021,
                  1
                ],
                [
                  "SO49375",
                  1,
                  "2021-01-21",
                  "Preston Raman",
                  "preston11@adventure-works.com",
                  "Mountain-200 Silver, 42",
                  1,
                  2071.4196,
                  165.7136,
                  2021,
                  1
                ],
                [
                  "SO49377",
                  1,
                  "2021-01-21",
                  "Rosa Chen",
                  "rosa2@adventure-works.com",
                  "Road-250 Red, 58",
                  1,
                  2181.5625,
                  174.525,
                  2021,
                  1
                ],
                [
                  "SO49382",
                  1,
                  "2021-01-21",
                  "Jessie Romero",
                  "jessie15@adventure-works.com",
                  "Road-550-W Yellow, 40",
                  1,
                  1000.4375,
                  80.035,
                  2021,
                  1
                ],
                [
                  "SO49383",
                  1,
                  "2021-01-21",
                  "Meredith Rana",
                  "meredith10@adventure-works.com",
                  "Road-550-W Yellow, 40",
                  1,
                  1000.4375,
                  80.035,
                  2021,
                  1
                ],
                [
                  "SO49378",
                  1,
                  "2021-01-21",
                  "Charles Brown",
                  "charles7@adventure-works.com",
                  "Mountain-200 Black, 42",
                  1,
                  2049.0982,
                  163.9279,
                  2021,
                  1
                ],
                [
                  "SO49379",
                  1,
                  "2021-01-21",
                  "Jennifer Rodriguez",
                  "jennifer47@adventure-works.com",
                  "Mountain-200 Black, 42",
                  1,
                  2049.0982,
                  163.9279,
                  2021,
                  1
                ],
                [
                  "SO49384",
                  1,
                  "2021-01-21",
                  "Lydia Patel",
                  "lydia2@adventure-works.com",
                  "Mountain-200 Silver, 42",
                  1,
                  2071.4196,
                  165.7136,
                  2021,
                  1
                ],
                [
                  "SO49394",
                  1,
                  "2021-01-22",
                  "Derrick Rubio",
                  "derrick19@adventure-works.com",
                  "Road-250 Black, 58",
                  1,
                  2181.5625,
                  174.525,
                  2021,
                  1
                ],
                [
                  "SO49393",
                  1,
                  "2021-01-22",
                  "Casey Alonso",
                  "casey32@adventure-works.com",
                  "Road-250 Black, 48",
                  1,
                  2181.5625,
                  174.525,
                  2021,
                  1
                ],
                [
                  "SO49395",
                  1,
                  "2021-01-22",
                  "Donna Pal",
                  "donna11@adventure-works.com",
                  "Road-250 Red, 48",
                  1,
                  2443.35,
                  195.468,
                  2021,
                  1
                ],
                [
                  "SO49388",
                  1,
                  "2021-01-22",
                  "Crystal Zeng",
                  "crystal1@adventure-works.com",
                  "Mountain-200 Silver, 46",
                  1,
                  2071.4196,
                  165.7136,
                  2021,
                  1
                ],
                [
                  "SO49392",
                  1,
                  "2021-01-22",
                  "Melody Jimenez",
                  "melody6@adventure-works.com",
                  "Mountain-200 Black, 46",
                  1,
                  2049.0982,
                  163.9279,
                  2021,
                  1
                ],
                [
                  "SO49391",
                  1,
                  "2021-01-22",
                  "Adam Lal",
                  "adam25@adventure-works.com",
                  "Road-250 Black, 58",
                  1,
                  2181.5625,
                  174.525,
                  2021,
                  1
                ],
                [
                  "SO49389",
                  1,
                  "2021-01-22",
                  "Jerry Andersen",
                  "jerry14@adventure-works.com",
                  "Road-650 Black, 60",
                  1,
                  782.99,
                  62.6392,
                  2021,
                  1
                ],
                [
                  "SO49390",
                  1,
                  "2021-01-22",
                  "Marcus Robinson",
                  "marcus19@adventure-works.com",
                  "Road-650 Black, 60",
                  1,
                  782.99,
                  62.6392,
                  2021,
                  1
                ],
                [
                  "SO49385",
                  1,
                  "2021-01-22",
                  "Renee Hernandez",
                  "renee3@adventure-works.com",
                  "Road-250 Black, 48",
                  1,
                  2181.5625,
                  174.525,
                  2021,
                  1
                ],
                [
                  "SO49386",
                  1,
                  "2021-01-22",
                  "Seth Sanchez",
                  "seth88@adventure-works.com",
                  "Road-250 Black, 44",
                  1,
                  2181.5625,
                  174.525,
                  2021,
                  1
                ],
                [
                  "SO49387",
                  1,
                  "2021-01-22",
                  "Jarrod Mehta",
                  "jarrod14@adventure-works.com",
                  "Road-250 Red, 48",
                  1,
                  2443.35,
                  195.468,
                  2021,
                  1
                ],
                [
                  "SO49397",
                  1,
                  "2021-01-23",
                  "Kaylee Gray",
                  "kaylee4@adventure-works.com",
                  "Road-650 Red, 58",
                  1,
                  782.99,
                  62.6392,
                  2021,
                  1
                ],
                [
                  "SO49396",
                  1,
                  "2021-01-23",
                  "Carlos Evans",
                  "carlos26@adventure-works.com",
                  "Road-250 Red, 52",
                  1,
                  2443.35,
                  195.468,
                  2021,
                  1
                ],
                [
                  "SO49398",
                  1,
                  "2021-01-23",
                  "Valerie Huang",
                  "valerie7@adventure-works.com",
                  "Road-650 Red, 52",
                  1,
                  782.99,
                  62.6392,
                  2021,
                  1
                ],
                [
                  "SO49404",
                  1,
                  "2021-01-24",
                  "Rachael Lopez",
                  "rachael15@adventure-works.com",
                  "Road-250 Black, 52",
                  1,
                  2181.5625,
                  174.525,
                  2021,
                  1
                ],
                [
                  "SO49399",
                  1,
                  "2021-01-24",
                  "Randall Ortega",
                  "randall24@adventure-works.com",
                  "Road-650 Black, 44",
                  1,
                  782.99,
                  62.6392,
                  2021,
                  1
                ],
                [
                  "SO49408",
                  1,
                  "2021-01-24",
                  "Jordan Scott",
                  "jordan69@adventure-works.com",
                  "Road-650 Red, 60",
                  1,
                  782.99,
                  62.6392,
                  2021,
                  1
                ],
                [
                  "SO49401",
                  1,
                  "2021-01-24",
                  "Jay Nicholls",
                  "jay39@adventure-works.com",
                  "Road-250 Red, 48",
                  1,
                  2443.35,
                  195.468,
                  2021,
                  1
                ],
                [
                  "SO49400",
                  1,
                  "2021-01-24",
                  "Theodore Rowe",
                  "theodore22@adventure-works.com",
                  "Road-250 Black, 44",
                  1,
                  2181.5625,
                  174.525,
                  2021,
                  1
                ],
                [
                  "SO49405",
                  1,
                  "2021-01-24",
                  "Bailey Carter",
                  "bailey30@adventure-works.com",
                  "Mountain-200 Black, 42",
                  1,
                  2049.0982,
                  163.9279,
                  2021,
                  1
                ],
                [
                  "SO49409",
                  1,
                  "2021-01-24",
                  "Johnny Raje",
                  "johnny15@adventure-works.com",
                  "Mountain-200 Black, 38",
                  1,
                  2049.0982,
                  163.9279,
                  2021,
                  1
                ],
                [
                  "SO49407",
                  1,
                  "2021-01-24",
                  "Isabella Baker",
                  "isabella47@adventure-works.com",
                  "Road-550-W Yellow, 48",
                  1,
                  1000.4375,
                  80.035,
                  2021,
                  1
                ],
                [
                  "SO49402",
                  1,
                  "2021-01-24",
                  "Kevin Coleman",
                  "kevin9@adventure-works.com",
                  "Mountain-200 Silver, 38",
                  1,
                  2071.4196,
                  165.7136,
                  2021,
                  1
                ],
                [
                  "SO49403",
                  1,
                  "2021-01-24",
                  "Shaun Chapman",
                  "shaun17@adventure-works.com",
                  "Mountain-200 Black, 46",
                  1,
                  2049.0982,
                  163.9279,
                  2021,
                  1
                ],
                [
                  "SO49406",
                  1,
                  "2021-01-24",
                  "Victoria Peterson",
                  "victoria41@adventure-works.com",
                  "Mountain-200 Silver, 42",
                  1,
                  2071.4196,
                  165.7136,
                  2021,
                  1
                ],
                [
                  "SO49420",
                  1,
                  "2021-01-25",
                  "Seth Green",
                  "seth32@adventure-works.com",
                  "Road-550-W Yellow, 48",
                  1,
                  1000.4375,
                  80.035,
                  2021,
                  1
                ],
                [
                  "SO49418",
                  1,
                  "2021-01-25",
                  "Lawrence Sanz",
                  "lawrence19@adventure-works.com",
                  "Mountain-200 Silver, 38",
                  1,
                  2071.4196,
                  165.7136,
                  2021,
                  1
                ],
                [
                  "SO49417",
                  1,
                  "2021-01-25",
                  "Jesse Sanchez",
                  "jesse18@adventure-works.com",
                  "Mountain-200 Black, 46",
                  1,
                  2049.0982,
                  163.9279,
                  2021,
                  1
                ],
                [
                  "SO49416",
                  1,
                  "2021-01-25",
                  "Tonya Tang",
                  "tonya4@adventure-works.com",
                  "Road-650 Black, 48",
                  1,
                  782.99,
                  62.6392,
                  2021,
                  1
                ],
                [
                  "SO49413",
                  1,
                  "2021-01-25",
                  "Robin Ortega",
                  "robin17@adventure-works.com",
                  "Road-250 Red, 48",
                  1,
                  2443.35,
                  195.468,
                  2021,
                  1
                ],
                [
                  "SO49414",
                  1,
                  "2021-01-25",
                  "Samantha Bennett",
                  "samantha26@adventure-works.com",
                  "Road-250 Red, 44",
                  1,
                  2443.35,
                  195.468,
                  2021,
                  1
                ],
                [
                  "SO49415",
                  1,
                  "2021-01-25",
                  "Priscilla Yuan",
                  "priscilla6@adventure-works.com",
                  "Road-250 Red, 52",
                  1,
                  2443.35,
                  195.468,
                  2021,
                  1
                ],
                [
                  "SO49412",
                  1,
                  "2021-01-25",
                  "Roberto Vazquez",
                  "roberto15@adventure-works.com",
                  "Road-250 Black, 44",
                  1,
                  2181.5625,
                  174.525,
                  2021,
                  1
                ],
                [
                  "SO49410",
                  1,
                  "2021-01-25",
                  "Eddie Dominguez",
                  "eddie13@adventure-works.com",
                  "Road-250 Red, 48",
                  1,
                  2443.35,
                  195.468,
                  2021,
                  1
                ],
                [
                  "SO49411",
                  1,
                  "2021-01-25",
                  "Todd Wang",
                  "todd3@adventure-works.com",
                  "Road-250 Red, 44",
                  1,
                  2443.35,
                  195.468,
                  2021,
                  1
                ],
                [
                  "SO49419",
                  1,
                  "2021-01-25",
                  "Ashlee Luo",
                  "ashlee13@adventure-works.com",
                  "Road-250 Red, 44",
                  1,
                  2443.35,
                  195.468,
                  2021,
                  1
                ],
                [
                  "SO49421",
                  1,
                  "2021-01-25",
                  "Jorge Gao",
                  "jorge17@adventure-works.com",
                  "Road-250 Black, 58",
                  1,
                  2181.5625,
                  174.525,
                  2021,
                  1
                ],
                [
                  "SO49422",
                  1,
                  "2021-01-25",
                  "Karla Chander",
                  "karla17@adventure-works.com",
                  "Road-250 Red, 52",
                  1,
                  2443.35,
                  195.468,
                  2021,
                  1
                ],
                [
                  "SO49424",
                  1,
                  "2021-01-25",
                  "Donald Lopez",
                  "donald18@adventure-works.com",
                  "Road-650 Black, 52",
                  1,
                  782.99,
                  62.6392,
                  2021,
                  1
                ],
                [
                  "SO49423",
                  1,
                  "2021-01-25",
                  "Ashlee Beck",
                  "ashlee4@adventure-works.com",
                  "Road-650 Red, 52",
                  1,
                  782.99,
                  62.6392,
                  2021,
                  1
                ],
                [
                  "SO49425",
                  1,
                  "2021-01-26",
                  "Molly Madan",
                  "molly7@adventure-works.com",
                  "Road-250 Red, 48",
                  1,
                  2443.35,
                  195.468,
                  2021,
                  1
                ],
                [
                  "SO49430",
                  1,
                  "2021-01-26",
                  "Luis Lal",
                  "luis29@adventure-works.com",
                  "Road-650 Red, 44",
                  1,
                  782.99,
                  62.6392,
                  2021,
                  1
                ],
                [
                  "SO49431",
                  1,
                  "2021-01-26",
                  "Morgan Brooks",
                  "morgan67@adventure-works.com",
                  "Road-650 Black, 58",
                  1,
                  782.99,
                  62.6392,
                  2021,
                  1
                ],
                [
                  "SO49426",
                  1,
                  "2021-01-26",
                  "Melinda Carlson",
                  "melinda13@adventure-works.com",
                  "Road-650 Red, 60",
                  1,
                  782.99,
                  62.6392,
                  2021,
                  1
                ],
                [
                  "SO49427",
                  1,
                  "2021-01-26",
                  "Paula Dominguez",
                  "paula15@adventure-works.com",
                  "Road-650 Black, 44",
                  1,
                  782.99,
                  62.6392,
                  2021,
                  1
                ],
                [
                  "SO49429",
                  1,
                  "2021-01-26",
                  "Eddie Vazquez",
                  "eddie15@adventure-works.com",
                  "Mountain-200 Black, 42",
                  1,
                  2049.0982,
                  163.9279,
                  2021,
                  1
                ],
                [
                  "SO49428",
                  1,
                  "2021-01-26",
                  "Jonathan Clark",
                  "jonathan73@adventure-works.com",
                  "Road-250 Red, 44",
                  1,
                  2443.35,
                  195.468,
                  2021,
                  1
                ],
                [
                  "SO49434",
                  1,
                  "2021-01-27",
                  "Dalton Collins",
                  "dalton45@adventure-works.com",
                  "Road-550-W Yellow, 38",
                  1,
                  1000.4375,
                  80.035,
                  2021,
                  1
                ],
                [
                  "SO49432",
                  1,
                  "2021-01-27",
                  "Walter Navarro",
                  "walter3@adventure-works.com",
                  "Road-250 Black, 44",
                  1,
                  2181.5625,
                  174.525,
                  2021,
                  1
                ],
                [
                  "SO49433",
                  1,
                  "2021-01-27",
                  "Misty Raje",
                  "misty15@adventure-works.com",
                  "Road-250 Black, 44",
                  1,
                  2181.5625,
                  174.525,
                  2021,
                  1
                ],
                [
                  "SO49435",
                  1,
                  "2021-01-28",
                  "Jenny Lal",
                  "jenny32@adventure-works.com",
                  "Road-250 Black, 52",
                  1,
                  2181.5625,
                  174.525,
                  2021,
                  1
                ],
                [
                  "SO49442",
                  1,
                  "2021-01-28",
                  "Marshall Jai",
                  "marshall32@adventure-works.com",
                  "Road-650 Black, 60",
                  1,
                  782.99,
                  62.6392,
                  2021,
                  1
                ],
                [
                  "SO49437",
                  1,
                  "2021-01-28",
                  "Ricardo Andersen",
                  "ricardo13@adventure-works.com",
                  "Road-650 Red, 52",
                  1,
                  782.99,
                  62.6392,
                  2021,
                  1
                ],
                [
                  "SO49436",
                  1,
                  "2021-01-28",
                  "Kyle Young",
                  "kyle44@adventure-works.com",
                  "Road-650 Red, 60",
                  1,
                  782.99,
                  62.6392,
                  2021,
                  1
                ],
                [
                  "SO49438",
                  1,
                  "2021-01-28",
                  "Kristine Dominguez",
                  "kristine13@adventure-works.com",
                  "Mountain-200 Silver, 46",
                  1,
                  2071.4196,
                  165.7136,
                  2021,
                  1
                ],
                [
                  "SO49439",
                  1,
                  "2021-01-28",
                  "Stacey Li",
                  "stacey3@adventure-works.com",
                  "Mountain-200 Silver, 46",
                  1,
                  2071.4196,
                  165.7136,
                  2021,
                  1
                ],
                [
                  "SO49440",
                  1,
                  "2021-01-28",
                  "Franklin Lal",
                  "franklin26@adventure-works.com",
                  "Mountain-200 Black, 42",
                  1,
                  2049.0982,
                  163.9279,
                  2021,
                  1
                ],
                [
                  "SO49441",
                  1,
                  "2021-01-28",
                  "Carol Long",
                  "carol6@adventure-works.com",
                  "Mountain-200 Black, 38",
                  1,
                  2049.0982,
                  163.9279,
                  2021,
                  1
                ],
                [
                  "SO49553",
                  1,
                  "2021-01-29",
                  "April Beck",
                  "april16@adventure-works.com",
                  "Mountain-200 Silver, 42",
                  1,
                  2071.4196,
                  165.7136,
                  2021,
                  1
                ],
                [
                  "SO49552",
                  1,
                  "2021-01-29",
                  "Colleen Anand",
                  "colleen45@adventure-works.com",
                  "Mountain-200 Black, 38",
                  1,
                  2049.0982,
                  163.9279,
                  2021,
                  1
                ],
                [
                  "SO49551",
                  1,
                  "2021-01-29",
                  "Chad Luo",
                  "chad7@adventure-works.com",
                  "Road-650 Black, 58",
                  1,
                  782.99,
                  62.6392,
                  2021,
                  1
                ],
                [
                  "SO49550",
                  1,
                  "2021-01-29",
                  "Marshall Luo",
                  "marshall27@adventure-works.com",
                  "Road-650 Red, 48",
                  1,
                  782.99,
                  62.6392,
                  2021,
                  1
                ],
                [
                  "SO49549",
                  1,
                  "2021-01-29",
                  "Alicia Sharma",
                  "alicia7@adventure-works.com",
                  "Road-550-W Yellow, 38",
                  1,
                  1000.4375,
                  80.035,
                  2021,
                  1
                ],
                [
                  "SO49554",
                  1,
                  "2021-01-29",
                  "Garrett Rogers",
                  "garrett24@adventure-works.com",
                  "Road-650 Black, 62",
                  1,
                  782.99,
                  62.6392,
                  2021,
                  1
                ],
                [
                  "SO49555",
                  1,
                  "2021-01-29",
                  "Jenny Ye",
                  "jenny12@adventure-works.com",
                  "Road-550-W Yellow, 44",
                  1,
                  1000.4375,
                  80.035,
                  2021,
                  1
                ],
                [
                  "SO49556",
                  1,
                  "2021-01-29",
                  "Henry Perez",
                  "henry22@adventure-works.com",
                  "Road-650 Black, 44",
                  1,
                  782.99,
                  62.6392,
                  2021,
                  1
                ],
                [
                  "SO49557",
                  1,
                  "2021-01-29",
                  "Summer Patel",
                  "summer3@adventure-works.com",
                  "Road-650 Black, 60",
                  1,
                  782.99,
                  62.6392,
                  2021,
                  1
                ],
                [
                  "SO49568",
                  1,
                  "2021-01-30",
                  "Warren Kumar",
                  "warren16@adventure-works.com",
                  "Road-250 Black, 48",
                  1,
                  2181.5625,
                  174.525,
                  2021,
                  1
                ],
                [
                  "SO49566",
                  1,
                  "2021-01-30",
                  "Kyle Mitchell",
                  "kyle40@adventure-works.com",
                  "Road-650 Black, 58",
                  1,
                  782.99,
                  62.6392,
                  2021,
                  1
                ],
                [
                  "SO49558",
                  1,
                  "2021-01-30",
                  "Christy Beck",
                  "christy38@adventure-works.com",
                  "Road-650 Black, 58",
                  1,
                  782.99,
                  62.6392,
                  2021,
                  1
                ],
                [
                  "SO49565",
                  1,
                  "2021-01-30",
                  "Deb Foster",
                  "deb9@adventure-works.com",
                  "Mountain-200 Silver, 46",
                  1,
                  2071.4196,
                  165.7136,
                  2021,
                  1
                ],
                [
                  "SO49567",
                  1,
                  "2021-01-30",
                  "Derrick Ruiz",
                  "derrick2@adventure-works.com",
                  "Mountain-200 Silver, 46",
                  1,
                  2071.4196,
                  165.7136,
                  2021,
                  1
                ],
                [
                  "SO49562",
                  1,
                  "2021-01-30",
                  "Gina Romero",
                  "gina9@adventure-works.com",
                  "Mountain-200 Silver, 42",
                  1,
                  2071.4196,
                  165.7136,
                  2021,
                  1
                ],
                [
                  "SO49560",
                  1,
                  "2021-01-30",
                  "Spencer Diaz",
                  "spencer24@adventure-works.com",
                  "Road-250 Black, 48",
                  1,
                  2181.5625,
                  174.525,
                  2021,
                  1
                ],
                [
                  "SO49561",
                  1,
                  "2021-01-30",
                  "Veronica Chandra",
                  "veronica2@adventure-works.com",
                  "Mountain-200 Black, 38",
                  1,
                  2049.0982,
                  163.9279,
                  2021,
                  1
                ],
                [
                  "SO49564",
                  1,
                  "2021-01-30",
                  "Xavier Mitchell",
                  "xavier34@adventure-works.com",
                  "Road-550-W Yellow, 44",
                  1,
                  1000.4375,
                  80.035,
                  2021,
                  1
                ],
                [
                  "SO49559",
                  1,
                  "2021-01-30",
                  "Savannah Mitchell",
                  "savannah33@adventure-works.com",
                  "Road-250 Red, 48",
                  1,
                  2443.35,
                  195.468,
                  2021,
                  1
                ],
                [
                  "SO49563",
                  1,
                  "2021-01-30",
                  "Justin Clark",
                  "justin47@adventure-works.com",
                  "Mountain-200 Silver, 42",
                  1,
                  2071.4196,
                  165.7136,
                  2021,
                  1
                ],
                [
                  "SO49570",
                  1,
                  "2021-01-31",
                  "Leonard Anand",
                  "leonard24@adventure-works.com",
                  "Mountain-200 Black, 38",
                  1,
                  2049.0982,
                  163.9279,
                  2021,
                  1
                ],
                [
                  "SO49571",
                  1,
                  "2021-01-31",
                  "Kristi Rodriguez",
                  "kristi37@adventure-works.com",
                  "Mountain-200 Black, 38",
                  1,
                  2049.0982,
                  163.9279,
                  2021,
                  1
                ],
                [
                  "SO49569",
                  1,
                  "2021-01-31",
                  "Kathryn Xie",
                  "kathryn3@adventure-works.com",
                  "Road-250 Red, 58",
                  1,
                  2181.5625,
                  174.525,
                  2021,
                  1
                ],
                [
                  "SO49573",
                  1,
                  "2021-01-31",
                  "Alison Anand",
                  "alison23@adventure-works.com",
                  "Road-250 Red, 58",
                  1,
                  2181.5625,
                  174.525,
                  2021,
                  1
                ],
                [
                  "SO49572",
                  1,
                  "2021-01-31",
                  "Alexa Stewart",
                  "alexa21@adventure-works.com",
                  "Mountain-200 Silver, 38",
                  1,
                  2071.4196,
                  165.7136,
                  2021,
                  1
                ],
                [
                  "SO49574",
                  1,
                  "2021-01-31",
                  "Alvin Li",
                  "alvin4@adventure-works.com",
                  "Road-650 Red, 58",
                  1,
                  782.99,
                  62.6392,
                  2021,
                  1
                ]
              ]
            },
            "text/plain": "<Spark SQL result set with 298 rows and 11 fields>"
          },
          "metadata": {}
        }
      ],
      "execution_count": 10,
      "metadata": {
        "microsoft": {
          "language": "sparksql"
        },
        "collapsed": false
      }
    },
    {
      "cell_type": "markdown",
      "source": [
        "Because these are *external* tables, you can drop the tables from the metastore without deleting the files - so the transfomed data remains available for other downstream data analytics or ingestion processes."
      ],
      "metadata": {
        "nteract": {
          "transient": {
            "deleting": false
          }
        }
      }
    },
    {
      "cell_type": "code",
      "source": [
        "%%sql\r\n",
        "\r\n",
        "DROP TABLE transformed_orders;\r\n",
        "DROP TABLE sales_orders;"
      ],
      "outputs": [
        {
          "output_type": "display_data",
          "data": {
            "application/vnd.livy.statement-meta+json": {
              "spark_pool": null,
              "session_id": null,
              "statement_id": -1,
              "state": "finished",
              "livy_statement_state": "available",
              "queued_time": "2024-04-15T12:48:02.0038107Z",
              "session_start_time": null,
              "execution_start_time": "2024-04-15T12:48:05.7709157Z",
              "execution_finish_time": "2024-04-15T12:48:05.7710991Z",
              "spark_jobs": null,
              "parent_msg_id": "496dbd19-18eb-46fb-a815-18f1ab93910c"
            },
            "text/plain": "StatementMeta(, , -1, Finished, Available)"
          },
          "metadata": {}
        },
        {
          "output_type": "execute_result",
          "execution_count": 11,
          "data": {
            "application/vnd.synapse.sparksql-result+json": {
              "schema": {
                "type": "struct",
                "fields": []
              },
              "data": []
            },
            "text/plain": "<Spark SQL result set with 0 rows and 0 fields>"
          },
          "metadata": {}
        },
        {
          "output_type": "execute_result",
          "execution_count": 11,
          "data": {
            "application/vnd.synapse.sparksql-result+json": {
              "schema": {
                "type": "struct",
                "fields": []
              },
              "data": []
            },
            "text/plain": "<Spark SQL result set with 0 rows and 0 fields>"
          },
          "metadata": {}
        }
      ],
      "execution_count": 11,
      "metadata": {
        "jupyter": {
          "source_hidden": false,
          "outputs_hidden": false
        },
        "nteract": {
          "transient": {
            "deleting": false
          }
        },
        "microsoft": {
          "language": "sparksql"
        },
        "collapsed": false
      }
    }
  ],
  "metadata": {
    "kernelspec": {
      "name": "synapse_pyspark",
      "language": "Python",
      "display_name": "Synapse PySpark"
    },
    "language_info": {
      "name": "python"
    },
    "kernel_info": {
      "name": "synapse_pyspark"
    },
    "description": null,
    "save_output": true,
    "synapse_widget": {
      "version": "0.1",
      "state": {
        "c36a7ee1-54d7-4289-8441-c9899a3d9459": {
          "type": "Synapse.DataFrame",
          "sync_state": {
            "table": {
              "rows": [
                {
                  "0": "SO49171",
                  "1": "1",
                  "2": "2021-01-01",
                  "3": "mariah21@adventure-works.com",
                  "4": "Road-250 Black, 48",
                  "5": "1",
                  "6": "2181.5625",
                  "7": "174.525",
                  "8": "Mariah",
                  "9": "Foster"
                },
                {
                  "0": "SO49172",
                  "1": "1",
                  "2": "2021-01-01",
                  "3": "brian23@adventure-works.com",
                  "4": "Road-250 Red, 44",
                  "5": "1",
                  "6": "2443.35",
                  "7": "195.468",
                  "8": "Brian",
                  "9": "Howard"
                },
                {
                  "0": "SO49173",
                  "1": "1",
                  "2": "2021-01-01",
                  "3": "linda19@adventure-works.com",
                  "4": "Mountain-200 Silver, 38",
                  "5": "1",
                  "6": "2071.4196",
                  "7": "165.7136",
                  "8": "Linda",
                  "9": "Alvarez"
                },
                {
                  "0": "SO49174",
                  "1": "1",
                  "2": "2021-01-01",
                  "3": "gina4@adventure-works.com",
                  "4": "Mountain-200 Silver, 42",
                  "5": "1",
                  "6": "2071.4196",
                  "7": "165.7136",
                  "8": "Gina",
                  "9": "Hernandez"
                },
                {
                  "0": "SO49178",
                  "1": "1",
                  "2": "2021-01-01",
                  "3": "beth4@adventure-works.com",
                  "4": "Road-550-W Yellow, 44",
                  "5": "1",
                  "6": "1000.4375",
                  "7": "80.035",
                  "8": "Beth",
                  "9": "Ruiz"
                }
              ],
              "schema": [
                {
                  "key": "0",
                  "name": "SalesOrderNumber",
                  "type": "string"
                },
                {
                  "key": "1",
                  "name": "SalesOrderLineNumber",
                  "type": "int"
                },
                {
                  "key": "2",
                  "name": "OrderDate",
                  "type": "string"
                },
                {
                  "key": "3",
                  "name": "EmailAddress",
                  "type": "string"
                },
                {
                  "key": "4",
                  "name": "Item",
                  "type": "string"
                },
                {
                  "key": "5",
                  "name": "Quantity",
                  "type": "int"
                },
                {
                  "key": "6",
                  "name": "UnitPrice",
                  "type": "double"
                },
                {
                  "key": "7",
                  "name": "TaxAmount",
                  "type": "double"
                },
                {
                  "key": "8",
                  "name": "FirstName",
                  "type": "string"
                },
                {
                  "key": "9",
                  "name": "LastName",
                  "type": "string"
                }
              ],
              "truncated": false
            },
            "isSummary": false,
            "language": "scala"
          },
          "persist_state": {
            "view": {
              "type": "details",
              "tableOptions": {},
              "chartOptions": {
                "chartType": "bar",
                "aggregationType": "sum",
                "categoryFieldKeys": [
                  "0"
                ],
                "seriesFieldKeys": [
                  "1"
                ],
                "isStacked": false
              }
            }
          }
        },
        "44e37898-dc40-403f-93ce-544e74f1a8f3": {
          "type": "Synapse.DataFrame",
          "sync_state": {
            "table": {
              "rows": [
                {
                  "0": "SO49171",
                  "1": "1",
                  "2": "2021-01-01",
                  "3": "Mariah Foster",
                  "4": "mariah21@adventure-works.com",
                  "5": "Road-250 Black, 48",
                  "6": "1",
                  "7": "2181.5625",
                  "8": "174.525"
                },
                {
                  "0": "SO49172",
                  "1": "1",
                  "2": "2021-01-01",
                  "3": "Brian Howard",
                  "4": "brian23@adventure-works.com",
                  "5": "Road-250 Red, 44",
                  "6": "1",
                  "7": "2443.35",
                  "8": "195.468"
                },
                {
                  "0": "SO49173",
                  "1": "1",
                  "2": "2021-01-01",
                  "3": "Linda Alvarez",
                  "4": "linda19@adventure-works.com",
                  "5": "Mountain-200 Silver, 38",
                  "6": "1",
                  "7": "2071.4196",
                  "8": "165.7136"
                },
                {
                  "0": "SO49174",
                  "1": "1",
                  "2": "2021-01-01",
                  "3": "Gina Hernandez",
                  "4": "gina4@adventure-works.com",
                  "5": "Mountain-200 Silver, 42",
                  "6": "1",
                  "7": "2071.4196",
                  "8": "165.7136"
                },
                {
                  "0": "SO49178",
                  "1": "1",
                  "2": "2021-01-01",
                  "3": "Beth Ruiz",
                  "4": "beth4@adventure-works.com",
                  "5": "Road-550-W Yellow, 44",
                  "6": "1",
                  "7": "1000.4375",
                  "8": "80.035"
                }
              ],
              "schema": [
                {
                  "key": "0",
                  "name": "SalesOrderNumber",
                  "type": "string"
                },
                {
                  "key": "1",
                  "name": "SalesOrderLineNumber",
                  "type": "int"
                },
                {
                  "key": "2",
                  "name": "OrderDate",
                  "type": "string"
                },
                {
                  "key": "3",
                  "name": "CustomerName",
                  "type": "string"
                },
                {
                  "key": "4",
                  "name": "EmailAddress",
                  "type": "string"
                },
                {
                  "key": "5",
                  "name": "Item",
                  "type": "string"
                },
                {
                  "key": "6",
                  "name": "Quantity",
                  "type": "int"
                },
                {
                  "key": "7",
                  "name": "UnitPrice",
                  "type": "double"
                },
                {
                  "key": "8",
                  "name": "TaxAmount",
                  "type": "double"
                }
              ],
              "truncated": false
            },
            "isSummary": false,
            "language": "scala"
          },
          "persist_state": {
            "view": {
              "type": "details",
              "tableOptions": {},
              "chartOptions": {
                "chartType": "bar",
                "aggregationType": "sum",
                "categoryFieldKeys": [
                  "0"
                ],
                "seriesFieldKeys": [
                  "1"
                ],
                "isStacked": false
              }
            }
          }
        },
        "83a56515-3e3f-449e-ab1a-b652b8f14c72": {
          "type": "Synapse.DataFrame",
          "sync_state": {
            "table": {
              "rows": [
                {
                  "0": "SO45347",
                  "1": "1",
                  "2": "2020-01-01",
                  "3": "clarence35@adventure-works.com",
                  "4": "Road-650 Black, 52",
                  "5": "1",
                  "6": "699.0982",
                  "7": "55.9279",
                  "8": "Clarence",
                  "9": "Raji",
                  "10": "2020",
                  "11": "1"
                },
                {
                  "0": "SO45345",
                  "1": "1",
                  "2": "2020-01-01",
                  "3": "bonnie12@adventure-works.com",
                  "4": "Road-150 Red, 52",
                  "5": "1",
                  "6": "3578.27",
                  "7": "286.2616",
                  "8": "Bonnie",
                  "9": "Yuan",
                  "10": "2020",
                  "11": "1"
                },
                {
                  "0": "SO45348",
                  "1": "1",
                  "2": "2020-01-01",
                  "3": "leah14@adventure-works.com",
                  "4": "Road-150 Red, 44",
                  "5": "1",
                  "6": "3578.27",
                  "7": "286.2616",
                  "8": "Leah",
                  "9": "Guo",
                  "10": "2020",
                  "11": "1"
                },
                {
                  "0": "SO45349",
                  "1": "1",
                  "2": "2020-01-01",
                  "3": "candice19@adventure-works.com",
                  "4": "Road-150 Red, 48",
                  "5": "1",
                  "6": "3578.27",
                  "7": "286.2616",
                  "8": "Candice",
                  "9": "Sun",
                  "10": "2020",
                  "11": "1"
                },
                {
                  "0": "SO45350",
                  "1": "1",
                  "2": "2020-01-01",
                  "3": "ruben16@adventure-works.com",
                  "4": "Road-150 Red, 44",
                  "5": "1",
                  "6": "3578.27",
                  "7": "286.2616",
                  "8": "Ruben",
                  "9": "Garcia",
                  "10": "2020",
                  "11": "1"
                }
              ],
              "schema": [
                {
                  "key": "0",
                  "name": "SalesOrderNumber",
                  "type": "string"
                },
                {
                  "key": "1",
                  "name": "SalesOrderLineNumber",
                  "type": "int"
                },
                {
                  "key": "2",
                  "name": "OrderDate",
                  "type": "string"
                },
                {
                  "key": "3",
                  "name": "EmailAddress",
                  "type": "string"
                },
                {
                  "key": "4",
                  "name": "Item",
                  "type": "string"
                },
                {
                  "key": "5",
                  "name": "Quantity",
                  "type": "int"
                },
                {
                  "key": "6",
                  "name": "UnitPrice",
                  "type": "double"
                },
                {
                  "key": "7",
                  "name": "TaxAmount",
                  "type": "double"
                },
                {
                  "key": "8",
                  "name": "FirstName",
                  "type": "string"
                },
                {
                  "key": "9",
                  "name": "LastName",
                  "type": "string"
                },
                {
                  "key": "10",
                  "name": "Year",
                  "type": "int"
                },
                {
                  "key": "11",
                  "name": "Month",
                  "type": "int"
                }
              ],
              "truncated": false
            },
            "isSummary": false,
            "language": "scala"
          },
          "persist_state": {
            "view": {
              "type": "details",
              "tableOptions": {},
              "chartOptions": {
                "chartType": "bar",
                "aggregationType": "sum",
                "categoryFieldKeys": [
                  "0"
                ],
                "seriesFieldKeys": [
                  "1"
                ],
                "isStacked": false
              }
            }
          }
        },
        "ccbd1f5c-08b2-467f-8619-2d03f979452c": {
          "type": "Synapse.DataFrame",
          "sync_state": {
            "table": {
              "rows": [
                {
                  "0": "SO48415",
                  "1": "1",
                  "2": "2020-11-01",
                  "3": "devin20@adventure-works.com",
                  "4": "Mountain-200 Silver, 46",
                  "5": "1",
                  "6": "2071.4196",
                  "7": "165.7136",
                  "8": "Devin",
                  "9": "Walker"
                },
                {
                  "0": "SO48419",
                  "1": "1",
                  "2": "2020-11-01",
                  "3": "alejandro15@adventure-works.com",
                  "4": "Road-650 Black, 44",
                  "5": "1",
                  "6": "782.99",
                  "7": "62.6392",
                  "8": "Alejandro",
                  "9": "Xu"
                },
                {
                  "0": "SO48413",
                  "1": "1",
                  "2": "2020-11-01",
                  "3": "christina5@adventure-works.com",
                  "4": "Road-550-W Yellow, 40",
                  "5": "1",
                  "6": "1000.4375",
                  "7": "80.035",
                  "8": "Christina",
                  "9": "Ramirez"
                },
                {
                  "0": "SO48414",
                  "1": "1",
                  "2": "2020-11-01",
                  "3": "marcus52@adventure-works.com",
                  "4": "Road-250 Red, 48",
                  "5": "1",
                  "6": "2443.35",
                  "7": "195.468",
                  "8": "Marcus",
                  "9": "Barnes"
                },
                {
                  "0": "SO48418",
                  "1": "1",
                  "2": "2020-11-01",
                  "3": "claudia0@adventure-works.com",
                  "4": "Mountain-200 Silver, 38",
                  "5": "1",
                  "6": "2071.4196",
                  "7": "165.7136",
                  "8": "Claudia",
                  "9": "Zhang"
                },
                {
                  "0": "SO48417",
                  "1": "1",
                  "2": "2020-11-01",
                  "3": "maurice12@adventure-works.com",
                  "4": "Road-250 Red, 44",
                  "5": "1",
                  "6": "2443.35",
                  "7": "195.468",
                  "8": "Maurice",
                  "9": "Jai"
                },
                {
                  "0": "SO48411",
                  "1": "1",
                  "2": "2020-11-01",
                  "3": "jessica35@adventure-works.com",
                  "4": "Road-250 Red, 58",
                  "5": "1",
                  "6": "2181.5625",
                  "7": "174.525",
                  "8": "Jessica",
                  "9": "Patterson"
                },
                {
                  "0": "SO48416",
                  "1": "1",
                  "2": "2020-11-01",
                  "3": "jennifer67@adventure-works.com",
                  "4": "Road-650 Red, 58",
                  "5": "1",
                  "6": "782.99",
                  "7": "62.6392",
                  "8": "Jennifer",
                  "9": "Torres"
                },
                {
                  "0": "SO48412",
                  "1": "1",
                  "2": "2020-11-01",
                  "3": "evelyn13@adventure-works.com",
                  "4": "Road-650 Black, 52",
                  "5": "1",
                  "6": "782.99",
                  "7": "62.6392",
                  "8": "Evelyn",
                  "9": "Raman"
                },
                {
                  "0": "SO48423",
                  "1": "1",
                  "2": "2020-11-02",
                  "3": "cedric25@adventure-works.com",
                  "4": "Road-650 Black, 48",
                  "5": "1",
                  "6": "782.99",
                  "7": "62.6392",
                  "8": "Cedric",
                  "9": "Xie"
                },
                {
                  "0": "SO48421",
                  "1": "1",
                  "2": "2020-11-02",
                  "3": "stacey14@adventure-works.com",
                  "4": "Road-550-W Yellow, 44",
                  "5": "1",
                  "6": "1000.4375",
                  "7": "80.035",
                  "8": "Stacey",
                  "9": "Sun"
                },
                {
                  "0": "SO48422",
                  "1": "1",
                  "2": "2020-11-02",
                  "3": "teresa4@adventure-works.com",
                  "4": "Road-250 Black, 58",
                  "5": "1",
                  "6": "2181.5625",
                  "7": "174.525",
                  "8": "Teresa",
                  "9": "Diaz"
                },
                {
                  "0": "SO48425",
                  "1": "1",
                  "2": "2020-11-02",
                  "3": "kurt21@adventure-works.com",
                  "4": "Road-250 Black, 58",
                  "5": "1",
                  "6": "2181.5625",
                  "7": "174.525",
                  "8": "Kurt",
                  "9": "Anand"
                },
                {
                  "0": "SO48434",
                  "1": "1",
                  "2": "2020-11-02",
                  "3": "mallory14@adventure-works.com",
                  "4": "Road-250 Black, 52",
                  "5": "1",
                  "6": "2181.5625",
                  "7": "174.525",
                  "8": "Mallory",
                  "9": "Moreno"
                },
                {
                  "0": "SO48435",
                  "1": "1",
                  "2": "2020-11-02",
                  "3": "barbara26@adventure-works.com",
                  "4": "Road-250 Black, 52",
                  "5": "1",
                  "6": "2181.5625",
                  "7": "174.525",
                  "8": "Barbara",
                  "9": "Liang"
                },
                {
                  "0": "SO48433",
                  "1": "1",
                  "2": "2020-11-02",
                  "3": "barbara31@adventure-works.com",
                  "4": "Road-250 Black, 58",
                  "5": "1",
                  "6": "2181.5625",
                  "7": "174.525",
                  "8": "Barbara",
                  "9": "Zeng"
                },
                {
                  "0": "SO48432",
                  "1": "1",
                  "2": "2020-11-02",
                  "3": "pedro41@adventure-works.com",
                  "4": "Road-250 Black, 52",
                  "5": "1",
                  "6": "2181.5625",
                  "7": "174.525",
                  "8": "Pedro",
                  "9": "Rubio"
                },
                {
                  "0": "SO48428",
                  "1": "1",
                  "2": "2020-11-02",
                  "3": "sydney46@adventure-works.com",
                  "4": "Road-250 Red, 58",
                  "5": "1",
                  "6": "2181.5625",
                  "7": "174.525",
                  "8": "Sydney",
                  "9": "Collins"
                },
                {
                  "0": "SO48427",
                  "1": "1",
                  "2": "2020-11-02",
                  "3": "jessica65@adventure-works.com",
                  "4": "Road-550-W Yellow, 48",
                  "5": "1",
                  "6": "1000.4375",
                  "7": "80.035",
                  "8": "Jessica",
                  "9": "Martinez"
                },
                {
                  "0": "SO48426",
                  "1": "1",
                  "2": "2020-11-02",
                  "3": "eduardo29@adventure-works.com",
                  "4": "Road-550-W Yellow, 40",
                  "5": "1",
                  "6": "1000.4375",
                  "7": "80.035",
                  "8": "Eduardo",
                  "9": "Scott"
                },
                {
                  "0": "SO48420",
                  "1": "1",
                  "2": "2020-11-02",
                  "3": "lacey0@adventure-works.com",
                  "4": "Road-250 Black, 52",
                  "5": "1",
                  "6": "2181.5625",
                  "7": "174.525",
                  "8": "Lacey",
                  "9": "Shan"
                },
                {
                  "0": "SO48424",
                  "1": "1",
                  "2": "2020-11-02",
                  "3": "alfredo11@adventure-works.com",
                  "4": "Road-250 Black, 52",
                  "5": "1",
                  "6": "2181.5625",
                  "7": "174.525",
                  "8": "Alfredo",
                  "9": "Navarro"
                },
                {
                  "0": "SO48429",
                  "1": "1",
                  "2": "2020-11-02",
                  "3": "tara22@adventure-works.com",
                  "4": "Mountain-200 Silver, 38",
                  "5": "1",
                  "6": "2071.4196",
                  "7": "165.7136",
                  "8": "Tara",
                  "9": "Raji"
                },
                {
                  "0": "SO48431",
                  "1": "1",
                  "2": "2020-11-02",
                  "3": "thomas49@adventure-works.com",
                  "4": "Mountain-200 Silver, 42",
                  "5": "1",
                  "6": "2071.4196",
                  "7": "165.7136",
                  "8": "Thomas",
                  "9": "Hill"
                },
                {
                  "0": "SO48430",
                  "1": "1",
                  "2": "2020-11-02",
                  "3": "gabrielle12@adventure-works.com",
                  "4": "Mountain-200 Black, 42",
                  "5": "1",
                  "6": "2049.0982",
                  "7": "163.9279",
                  "8": "Gabrielle",
                  "9": "Ward"
                },
                {
                  "0": "SO48436",
                  "1": "1",
                  "2": "2020-11-03",
                  "3": "lauren49@adventure-works.com",
                  "4": "Road-550-W Yellow, 48",
                  "5": "1",
                  "6": "1000.4375",
                  "7": "80.035",
                  "8": "Lauren",
                  "9": "Wood"
                },
                {
                  "0": "SO48438",
                  "1": "1",
                  "2": "2020-11-03",
                  "3": "evelyn20@adventure-works.com",
                  "4": "Mountain-200 Black, 46",
                  "5": "1",
                  "6": "2049.0982",
                  "7": "163.9279",
                  "8": "Evelyn",
                  "9": "Rodriguez"
                },
                {
                  "0": "SO48437",
                  "1": "1",
                  "2": "2020-11-03",
                  "3": "elijah32@adventure-works.com",
                  "4": "Road-650 Red, 62",
                  "5": "1",
                  "6": "782.99",
                  "7": "62.6392",
                  "8": "Elijah",
                  "9": "Perez"
                },
                {
                  "0": "SO48447",
                  "1": "1",
                  "2": "2020-11-04",
                  "3": "destiny12@adventure-works.com",
                  "4": "Road-650 Red, 44",
                  "5": "1",
                  "6": "782.99",
                  "7": "62.6392",
                  "8": "Destiny",
                  "9": "White"
                },
                {
                  "0": "SO48445",
                  "1": "1",
                  "2": "2020-11-04",
                  "3": "jay8@adventure-works.com",
                  "4": "Road-650 Black, 52",
                  "5": "1",
                  "6": "782.99",
                  "7": "62.6392",
                  "8": "Jay",
                  "9": "Chandra"
                },
                {
                  "0": "SO48440",
                  "1": "1",
                  "2": "2020-11-04",
                  "3": "frank27@adventure-works.com",
                  "4": "Road-650 Black, 62",
                  "5": "1",
                  "6": "782.99",
                  "7": "62.6392",
                  "8": "Frank",
                  "9": "Suarez"
                },
                {
                  "0": "SO48439",
                  "1": "1",
                  "2": "2020-11-04",
                  "3": "ethan10@adventure-works.com",
                  "4": "Road-550-W Yellow, 48",
                  "5": "1",
                  "6": "1000.4375",
                  "7": "80.035",
                  "8": "Ethan",
                  "9": "Butler"
                },
                {
                  "0": "SO48448",
                  "1": "1",
                  "2": "2020-11-04",
                  "3": "jerome11@adventure-works.com",
                  "4": "Road-250 Black, 48",
                  "5": "1",
                  "6": "2181.5625",
                  "7": "174.525",
                  "8": "Jerome",
                  "9": "Dominguez"
                },
                {
                  "0": "SO48449",
                  "1": "1",
                  "2": "2020-11-04",
                  "3": "barry6@adventure-works.com",
                  "4": "Road-250 Red, 52",
                  "5": "1",
                  "6": "2443.35",
                  "7": "195.468",
                  "8": "Barry",
                  "9": "Sai"
                },
                {
                  "0": "SO48451",
                  "1": "1",
                  "2": "2020-11-04",
                  "3": "mary22@adventure-works.com",
                  "4": "Mountain-200 Black, 38",
                  "5": "1",
                  "6": "2049.0982",
                  "7": "163.9279",
                  "8": "Mary",
                  "9": "Nelson"
                },
                {
                  "0": "SO48442",
                  "1": "1",
                  "2": "2020-11-04",
                  "3": "dennis19@adventure-works.com",
                  "4": "Road-250 Black, 52",
                  "5": "1",
                  "6": "2181.5625",
                  "7": "174.525",
                  "8": "Dennis",
                  "9": "Guo"
                },
                {
                  "0": "SO48443",
                  "1": "1",
                  "2": "2020-11-04",
                  "3": "sean51@adventure-works.com",
                  "4": "Mountain-200 Silver, 38",
                  "5": "1",
                  "6": "2071.4196",
                  "7": "165.7136",
                  "8": "Sean",
                  "9": "Hernandez"
                },
                {
                  "0": "SO48444",
                  "1": "1",
                  "2": "2020-11-04",
                  "3": "amanda1@adventure-works.com",
                  "4": "Mountain-200 Black, 46",
                  "5": "1",
                  "6": "2049.0982",
                  "7": "163.9279",
                  "8": "Amanda",
                  "9": "Morris"
                },
                {
                  "0": "SO48450",
                  "1": "1",
                  "2": "2020-11-04",
                  "3": "morgan57@adventure-works.com",
                  "4": "Mountain-200 Black, 46",
                  "5": "1",
                  "6": "2049.0982",
                  "7": "163.9279",
                  "8": "Morgan",
                  "9": "Richardson"
                },
                {
                  "0": "SO48441",
                  "1": "1",
                  "2": "2020-11-04",
                  "3": "jeremiah41@adventure-works.com",
                  "4": "Road-550-W Yellow, 48",
                  "5": "1",
                  "6": "1000.4375",
                  "7": "80.035",
                  "8": "Jeremiah",
                  "9": "Townsend"
                },
                {
                  "0": "SO48446",
                  "1": "1",
                  "2": "2020-11-04",
                  "3": "isabella66@adventure-works.com",
                  "4": "Road-650 Black, 44",
                  "5": "1",
                  "6": "782.99",
                  "7": "62.6392",
                  "8": "Isabella",
                  "9": "Thomas"
                },
                {
                  "0": "SO48455",
                  "1": "1",
                  "2": "2020-11-05",
                  "3": "omar26@adventure-works.com",
                  "4": "Mountain-200 Black, 42",
                  "5": "1",
                  "6": "2049.0982",
                  "7": "163.9279",
                  "8": "Omar",
                  "9": "Yuan"
                },
                {
                  "0": "SO48454",
                  "1": "1",
                  "2": "2020-11-05",
                  "3": "eugene14@adventure-works.com",
                  "4": "Mountain-200 Black, 38",
                  "5": "1",
                  "6": "2049.0982",
                  "7": "163.9279",
                  "8": "Eugene",
                  "9": "Zhao"
                },
                {
                  "0": "SO48457",
                  "1": "1",
                  "2": "2020-11-05",
                  "3": "levi13@adventure-works.com",
                  "4": "Mountain-200 Black, 46",
                  "5": "1",
                  "6": "2049.0982",
                  "7": "163.9279",
                  "8": "Levi",
                  "9": "Mehta"
                },
                {
                  "0": "SO48452",
                  "1": "1",
                  "2": "2020-11-05",
                  "3": "robert80@adventure-works.com",
                  "4": "Road-250 Red, 44",
                  "5": "1",
                  "6": "2443.35",
                  "7": "195.468",
                  "8": "Robert",
                  "9": "Rodriguez"
                },
                {
                  "0": "SO48456",
                  "1": "1",
                  "2": "2020-11-05",
                  "3": "timothy10@adventure-works.com",
                  "4": "Mountain-200 Black, 42",
                  "5": "1",
                  "6": "2049.0982",
                  "7": "163.9279",
                  "8": "Timothy",
                  "9": "Cooper"
                },
                {
                  "0": "SO48453",
                  "1": "1",
                  "2": "2020-11-05",
                  "3": "molly15@adventure-works.com",
                  "4": "Road-550-W Yellow, 42",
                  "5": "1",
                  "6": "1000.4375",
                  "7": "80.035",
                  "8": "Molly",
                  "9": "Lopez"
                },
                {
                  "0": "SO48461",
                  "1": "1",
                  "2": "2020-11-06",
                  "3": "raul13@adventure-works.com",
                  "4": "Road-550-W Yellow, 48",
                  "5": "1",
                  "6": "1000.4375",
                  "7": "80.035",
                  "8": "Raul",
                  "9": "Chander"
                },
                {
                  "0": "SO48466",
                  "1": "1",
                  "2": "2020-11-06",
                  "3": "sydney80@adventure-works.com",
                  "4": "Road-650 Black, 58",
                  "5": "1",
                  "6": "782.99",
                  "7": "62.6392",
                  "8": "Sydney",
                  "9": "Robinson"
                },
                {
                  "0": "SO48467",
                  "1": "1",
                  "2": "2020-11-06",
                  "3": "eduardo77@adventure-works.com",
                  "4": "Road-650 Black, 58",
                  "5": "1",
                  "6": "782.99",
                  "7": "62.6392",
                  "8": "Eduardo",
                  "9": "Cooper"
                },
                {
                  "0": "SO48468",
                  "1": "1",
                  "2": "2020-11-06",
                  "3": "adam26@adventure-works.com",
                  "4": "Road-650 Black, 62",
                  "5": "1",
                  "6": "782.99",
                  "7": "62.6392",
                  "8": "Adam",
                  "9": "Sharma"
                },
                {
                  "0": "SO48458",
                  "1": "1",
                  "2": "2020-11-06",
                  "3": "deanna4@adventure-works.com",
                  "4": "Road-250 Red, 58",
                  "5": "1",
                  "6": "2181.5625",
                  "7": "174.525",
                  "8": "Deanna",
                  "9": "Kapoor"
                },
                {
                  "0": "SO48460",
                  "1": "1",
                  "2": "2020-11-06",
                  "3": "willie29@adventure-works.com",
                  "4": "Road-250 Red, 58",
                  "5": "1",
                  "6": "2181.5625",
                  "7": "174.525",
                  "8": "Willie",
                  "9": "Shan"
                },
                {
                  "0": "SO48463",
                  "1": "1",
                  "2": "2020-11-06",
                  "3": "lawrence11@adventure-works.com",
                  "4": "Road-250 Red, 58",
                  "5": "1",
                  "6": "2181.5625",
                  "7": "174.525",
                  "8": "Lawrence",
                  "9": "Dominguez"
                },
                {
                  "0": "SO48462",
                  "1": "1",
                  "2": "2020-11-06",
                  "3": "jaclyn34@adventure-works.com",
                  "4": "Road-650 Red, 48",
                  "5": "1",
                  "6": "782.99",
                  "7": "62.6392",
                  "8": "Jaclyn",
                  "9": "Shan"
                },
                {
                  "0": "SO48471",
                  "1": "1",
                  "2": "2020-11-06",
                  "3": "tommy16@adventure-works.com",
                  "4": "Road-250 Black, 48",
                  "5": "1",
                  "6": "2181.5625",
                  "7": "174.525",
                  "8": "Tommy",
                  "9": "Goel"
                },
                {
                  "0": "SO48472",
                  "1": "1",
                  "2": "2020-11-06",
                  "3": "brittney22@adventure-works.com",
                  "4": "Road-250 Black, 44",
                  "5": "1",
                  "6": "2181.5625",
                  "7": "174.525",
                  "8": "Brittney",
                  "9": "She"
                },
                {
                  "0": "SO48469",
                  "1": "1",
                  "2": "2020-11-06",
                  "3": "nina0@adventure-works.com",
                  "4": "Road-250 Black, 52",
                  "5": "1",
                  "6": "2181.5625",
                  "7": "174.525",
                  "8": "Nina",
                  "9": "She"
                },
                {
                  "0": "SO48470",
                  "1": "1",
                  "2": "2020-11-06",
                  "3": "karl14@adventure-works.com",
                  "4": "Road-250 Black, 58",
                  "5": "1",
                  "6": "2181.5625",
                  "7": "174.525",
                  "8": "Karl",
                  "9": "Andersen"
                },
                {
                  "0": "SO48459",
                  "1": "1",
                  "2": "2020-11-06",
                  "3": "derrick13@adventure-works.com",
                  "4": "Road-250 Black, 58",
                  "5": "1",
                  "6": "2181.5625",
                  "7": "174.525",
                  "8": "Derrick",
                  "9": "Vazquez"
                },
                {
                  "0": "SO48464",
                  "1": "1",
                  "2": "2020-11-06",
                  "3": "kristi36@adventure-works.com",
                  "4": "Road-250 Black, 48",
                  "5": "1",
                  "6": "2181.5625",
                  "7": "174.525",
                  "8": "Kristi",
                  "9": "Gonzalez"
                },
                {
                  "0": "SO48474",
                  "1": "1",
                  "2": "2020-11-06",
                  "3": "noah17@adventure-works.com",
                  "4": "Road-650 Red, 48",
                  "5": "1",
                  "6": "782.99",
                  "7": "62.6392",
                  "8": "Noah",
                  "9": "Russell"
                },
                {
                  "0": "SO48473",
                  "1": "1",
                  "2": "2020-11-06",
                  "3": "arturo27@adventure-works.com",
                  "4": "Mountain-200 Silver, 38",
                  "5": "1",
                  "6": "2071.4196",
                  "7": "165.7136",
                  "8": "Arturo",
                  "9": "Xie"
                },
                {
                  "0": "SO48465",
                  "1": "1",
                  "2": "2020-11-06",
                  "3": "dalton8@adventure-works.com",
                  "4": "Mountain-200 Silver, 46",
                  "5": "1",
                  "6": "2071.4196",
                  "7": "165.7136",
                  "8": "Dalton",
                  "9": "Taylor"
                },
                {
                  "0": "SO48477",
                  "1": "1",
                  "2": "2020-11-07",
                  "3": "kayla29@adventure-works.com",
                  "4": "Mountain-200 Silver, 38",
                  "5": "1",
                  "6": "2071.4196",
                  "7": "165.7136",
                  "8": "Kayla",
                  "9": "Henderson"
                },
                {
                  "0": "SO48485",
                  "1": "1",
                  "2": "2020-11-07",
                  "3": "mario9@adventure-works.com",
                  "4": "Road-650 Black, 60",
                  "5": "1",
                  "6": "782.99",
                  "7": "62.6392",
                  "8": "Mario",
                  "9": "Johnsen"
                },
                {
                  "0": "SO48480",
                  "1": "1",
                  "2": "2020-11-07",
                  "3": "gabrielle45@adventure-works.com",
                  "4": "Mountain-200 Silver, 38",
                  "5": "1",
                  "6": "2071.4196",
                  "7": "165.7136",
                  "8": "Gabrielle",
                  "9": "Evans"
                },
                {
                  "0": "SO48476",
                  "1": "1",
                  "2": "2020-11-07",
                  "3": "christina16@adventure-works.com",
                  "4": "Road-550-W Yellow, 42",
                  "5": "1",
                  "6": "1000.4375",
                  "7": "80.035",
                  "8": "Christina",
                  "9": "Cooper"
                },
                {
                  "0": "SO48484",
                  "1": "1",
                  "2": "2020-11-07",
                  "3": "cassandra4@adventure-works.com",
                  "4": "Mountain-200 Silver, 38",
                  "5": "1",
                  "6": "2071.4196",
                  "7": "165.7136",
                  "8": "Cassandra",
                  "9": "Van"
                },
                {
                  "0": "SO48479",
                  "1": "1",
                  "2": "2020-11-07",
                  "3": "rebekah7@adventure-works.com",
                  "4": "Road-250 Black, 44",
                  "5": "1",
                  "6": "2181.5625",
                  "7": "174.525",
                  "8": "Rebekah",
                  "9": "Arthur"
                },
                {
                  "0": "SO48478",
                  "1": "1",
                  "2": "2020-11-07",
                  "3": "isabella62@adventure-works.com",
                  "4": "Road-250 Red, 58",
                  "5": "1",
                  "6": "2181.5625",
                  "7": "174.525",
                  "8": "Isabella",
                  "9": "Davis"
                },
                {
                  "0": "SO48482",
                  "1": "1",
                  "2": "2020-11-07",
                  "3": "krystal3@adventure-works.com",
                  "4": "Road-550-W Yellow, 44",
                  "5": "1",
                  "6": "1000.4375",
                  "7": "80.035",
                  "8": "Krystal",
                  "9": "Li"
                },
                {
                  "0": "SO48483",
                  "1": "1",
                  "2": "2020-11-07",
                  "3": "arthur24@adventure-works.com",
                  "4": "Road-550-W Yellow, 38",
                  "5": "1",
                  "6": "1000.4375",
                  "7": "80.035",
                  "8": "Arthur",
                  "9": "Gomez"
                },
                {
                  "0": "SO48481",
                  "1": "1",
                  "2": "2020-11-07",
                  "3": "rachel51@adventure-works.com",
                  "4": "Mountain-200 Black, 38",
                  "5": "1",
                  "6": "2049.0982",
                  "7": "163.9279",
                  "8": "Rachel",
                  "9": "Ross"
                },
                {
                  "0": "SO48475",
                  "1": "1",
                  "2": "2020-11-07",
                  "3": "damien3@adventure-works.com",
                  "4": "Road-250 Red, 52",
                  "5": "1",
                  "6": "2443.35",
                  "7": "195.468",
                  "8": "Damien",
                  "9": "Liu"
                },
                {
                  "0": "SO48487",
                  "1": "1",
                  "2": "2020-11-08",
                  "3": "julie16@adventure-works.com",
                  "4": "Road-650 Black, 60",
                  "5": "1",
                  "6": "782.99",
                  "7": "62.6392",
                  "8": "Julie",
                  "9": "Jai"
                },
                {
                  "0": "SO48486",
                  "1": "1",
                  "2": "2020-11-08",
                  "3": "david76@adventure-works.com",
                  "4": "Road-650 Black, 52",
                  "5": "1",
                  "6": "782.99",
                  "7": "62.6392",
                  "8": "David",
                  "9": "Jones"
                },
                {
                  "0": "SO48490",
                  "1": "1",
                  "2": "2020-11-08",
                  "3": "kelsey8@adventure-works.com",
                  "4": "Road-550-W Yellow, 38",
                  "5": "1",
                  "6": "1000.4375",
                  "7": "80.035",
                  "8": "Kelsey",
                  "9": "Lal"
                },
                {
                  "0": "SO48489",
                  "1": "1",
                  "2": "2020-11-08",
                  "3": "justin43@adventure-works.com",
                  "4": "Road-250 Red, 48",
                  "5": "1",
                  "6": "2443.35",
                  "7": "195.468",
                  "8": "Justin",
                  "9": "Thompson"
                },
                {
                  "0": "SO48491",
                  "1": "1",
                  "2": "2020-11-08",
                  "3": "lydia0@adventure-works.com",
                  "4": "Mountain-200 Black, 38",
                  "5": "1",
                  "6": "2049.0982",
                  "7": "163.9279",
                  "8": "Lydia",
                  "9": "Suri"
                },
                {
                  "0": "SO48488",
                  "1": "1",
                  "2": "2020-11-08",
                  "3": "kari22@adventure-works.com",
                  "4": "Mountain-200 Silver, 42",
                  "5": "1",
                  "6": "2071.4196",
                  "7": "165.7136",
                  "8": "Kari",
                  "9": "Gomez"
                },
                {
                  "0": "SO48492",
                  "1": "1",
                  "2": "2020-11-08",
                  "3": "michele18@adventure-works.com",
                  "4": "Road-650 Red, 52",
                  "5": "1",
                  "6": "782.99",
                  "7": "62.6392",
                  "8": "Michele",
                  "9": "Rai"
                },
                {
                  "0": "SO48502",
                  "1": "1",
                  "2": "2020-11-09",
                  "3": "crystal4@adventure-works.com",
                  "4": "Road-650 Black, 60",
                  "5": "1",
                  "6": "782.99",
                  "7": "62.6392",
                  "8": "Crystal",
                  "9": "Chen"
                },
                {
                  "0": "SO48495",
                  "1": "1",
                  "2": "2020-11-09",
                  "3": "noah23@adventure-works.com",
                  "4": "Mountain-200 Black, 42",
                  "5": "1",
                  "6": "2049.0982",
                  "7": "163.9279",
                  "8": "Noah",
                  "9": "Yang"
                },
                {
                  "0": "SO48496",
                  "1": "1",
                  "2": "2020-11-09",
                  "3": "sheila2@adventure-works.com",
                  "4": "Mountain-200 Black, 46",
                  "5": "1",
                  "6": "2049.0982",
                  "7": "163.9279",
                  "8": "Sheila",
                  "9": "Ruiz"
                },
                {
                  "0": "SO48497",
                  "1": "1",
                  "2": "2020-11-09",
                  "3": "hannah12@adventure-works.com",
                  "4": "Mountain-200 Black, 42",
                  "5": "1",
                  "6": "2049.0982",
                  "7": "163.9279",
                  "8": "Hannah",
                  "9": "Harris"
                },
                {
                  "0": "SO48493",
                  "1": "1",
                  "2": "2020-11-09",
                  "3": "albert9@adventure-works.com",
                  "4": "Mountain-200 Black, 46",
                  "5": "1",
                  "6": "2049.0982",
                  "7": "163.9279",
                  "8": "Albert",
                  "9": "Moreno"
                },
                {
                  "0": "SO48499",
                  "1": "1",
                  "2": "2020-11-09",
                  "3": "casey38@adventure-works.com",
                  "4": "Mountain-200 Black, 38",
                  "5": "1",
                  "6": "2049.0982",
                  "7": "163.9279",
                  "8": "Casey",
                  "9": "Vazquez"
                },
                {
                  "0": "SO48500",
                  "1": "1",
                  "2": "2020-11-09",
                  "3": "johnny19@adventure-works.com",
                  "4": "Mountain-200 Black, 38",
                  "5": "1",
                  "6": "2049.0982",
                  "7": "163.9279",
                  "8": "Johnny",
                  "9": "Rai"
                },
                {
                  "0": "SO48494",
                  "1": "1",
                  "2": "2020-11-09",
                  "3": "sydney13@adventure-works.com",
                  "4": "Road-550-W Yellow, 42",
                  "5": "1",
                  "6": "1000.4375",
                  "7": "80.035",
                  "8": "Sydney",
                  "9": "Ward"
                },
                {
                  "0": "SO48498",
                  "1": "1",
                  "2": "2020-11-09",
                  "3": "amy28@adventure-works.com",
                  "4": "Road-550-W Yellow, 44",
                  "5": "1",
                  "6": "1000.4375",
                  "7": "80.035",
                  "8": "Amy",
                  "9": "Cai"
                },
                {
                  "0": "SO48501",
                  "1": "1",
                  "2": "2020-11-09",
                  "3": "karl15@adventure-works.com",
                  "4": "Road-550-W Yellow, 40",
                  "5": "1",
                  "6": "1000.4375",
                  "7": "80.035",
                  "8": "Karl",
                  "9": "Raje"
                },
                {
                  "0": "SO48514",
                  "1": "1",
                  "2": "2020-11-10",
                  "3": "jade12@adventure-works.com",
                  "4": "Road-650 Black, 44",
                  "5": "1",
                  "6": "782.99",
                  "7": "62.6392",
                  "8": "Jade",
                  "9": "Murphy"
                },
                {
                  "0": "SO48513",
                  "1": "1",
                  "2": "2020-11-10",
                  "3": "alvin11@adventure-works.com",
                  "4": "Road-650 Red, 58",
                  "5": "1",
                  "6": "782.99",
                  "7": "62.6392",
                  "8": "Alvin",
                  "9": "Lu"
                },
                {
                  "0": "SO48515",
                  "1": "1",
                  "2": "2020-11-10",
                  "3": "julie11@adventure-works.com",
                  "4": "Road-250 Black, 48",
                  "5": "1",
                  "6": "2181.5625",
                  "7": "174.525",
                  "8": "Julie",
                  "9": "Yuan"
                },
                {
                  "0": "SO48504",
                  "1": "1",
                  "2": "2020-11-10",
                  "3": "pamela23@adventure-works.com",
                  "4": "Road-650 Black, 48",
                  "5": "1",
                  "6": "782.99",
                  "7": "62.6392",
                  "8": "Pamela",
                  "9": "Sanchez"
                },
                {
                  "0": "SO48512",
                  "1": "1",
                  "2": "2020-11-10",
                  "3": "marcus57@adventure-works.com",
                  "4": "Mountain-200 Silver, 38",
                  "5": "1",
                  "6": "2071.4196",
                  "7": "165.7136",
                  "8": "Marcus",
                  "9": "Perry"
                },
                {
                  "0": "SO48507",
                  "1": "1",
                  "2": "2020-11-10",
                  "3": "jonathan65@adventure-works.com",
                  "4": "Road-550-W Yellow, 48",
                  "5": "1",
                  "6": "1000.4375",
                  "7": "80.035",
                  "8": "Jonathan",
                  "9": "Jackson"
                },
                {
                  "0": "SO48503",
                  "1": "1",
                  "2": "2020-11-10",
                  "3": "dennis6@adventure-works.com",
                  "4": "Road-250 Red, 52",
                  "5": "1",
                  "6": "2443.35",
                  "7": "195.468",
                  "8": "Dennis",
                  "9": "Yang"
                },
                {
                  "0": "SO48505",
                  "1": "1",
                  "2": "2020-11-10",
                  "3": "krista11@adventure-works.com",
                  "4": "Road-250 Red, 58",
                  "5": "1",
                  "6": "2181.5625",
                  "7": "174.525",
                  "8": "Krista",
                  "9": "Gutierrez"
                }
              ],
              "schema": [
                {
                  "key": "0",
                  "name": "SalesOrderNumber",
                  "type": "string"
                },
                {
                  "key": "1",
                  "name": "SalesOrderLineNumber",
                  "type": "int"
                },
                {
                  "key": "2",
                  "name": "OrderDate",
                  "type": "string"
                },
                {
                  "key": "3",
                  "name": "EmailAddress",
                  "type": "string"
                },
                {
                  "key": "4",
                  "name": "Item",
                  "type": "string"
                },
                {
                  "key": "5",
                  "name": "Quantity",
                  "type": "int"
                },
                {
                  "key": "6",
                  "name": "UnitPrice",
                  "type": "double"
                },
                {
                  "key": "7",
                  "name": "TaxAmount",
                  "type": "double"
                },
                {
                  "key": "8",
                  "name": "FirstName",
                  "type": "string"
                },
                {
                  "key": "9",
                  "name": "LastName",
                  "type": "string"
                }
              ],
              "truncated": false
            },
            "isSummary": false,
            "language": "scala"
          },
          "persist_state": {
            "view": {
              "type": "details",
              "tableOptions": {},
              "chartOptions": {
                "chartType": "bar",
                "aggregationType": "sum",
                "categoryFieldKeys": [
                  "0"
                ],
                "seriesFieldKeys": [
                  "1"
                ],
                "isStacked": false
              }
            }
          }
        },
        "f5b97afd-6ac1-43ea-bfda-6ee00e5c96f4": {
          "type": "Synapse.DataFrame",
          "sync_state": {
            "table": {
              "rows": [
                {
                  "0": "SO49171",
                  "1": "1",
                  "2": "2021-01-01",
                  "3": "Mariah Foster",
                  "4": "mariah21@adventure-works.com",
                  "5": "Road-250 Black, 48",
                  "6": "1",
                  "7": "2181.5625",
                  "8": "174.525",
                  "9": "2021",
                  "10": "1"
                },
                {
                  "0": "SO49172",
                  "1": "1",
                  "2": "2021-01-01",
                  "3": "Brian Howard",
                  "4": "brian23@adventure-works.com",
                  "5": "Road-250 Red, 44",
                  "6": "1",
                  "7": "2443.35",
                  "8": "195.468",
                  "9": "2021",
                  "10": "1"
                },
                {
                  "0": "SO49173",
                  "1": "1",
                  "2": "2021-01-01",
                  "3": "Linda Alvarez",
                  "4": "linda19@adventure-works.com",
                  "5": "Mountain-200 Silver, 38",
                  "6": "1",
                  "7": "2071.4196",
                  "8": "165.7136",
                  "9": "2021",
                  "10": "1"
                },
                {
                  "0": "SO49174",
                  "1": "1",
                  "2": "2021-01-01",
                  "3": "Gina Hernandez",
                  "4": "gina4@adventure-works.com",
                  "5": "Mountain-200 Silver, 42",
                  "6": "1",
                  "7": "2071.4196",
                  "8": "165.7136",
                  "9": "2021",
                  "10": "1"
                },
                {
                  "0": "SO49178",
                  "1": "1",
                  "2": "2021-01-01",
                  "3": "Beth Ruiz",
                  "4": "beth4@adventure-works.com",
                  "5": "Road-550-W Yellow, 44",
                  "6": "1",
                  "7": "1000.4375",
                  "8": "80.035",
                  "9": "2021",
                  "10": "1"
                }
              ],
              "schema": [
                {
                  "key": "0",
                  "name": "SalesOrderNumber",
                  "type": "string"
                },
                {
                  "key": "1",
                  "name": "SalesOrderLineNumber",
                  "type": "int"
                },
                {
                  "key": "2",
                  "name": "OrderDate",
                  "type": "string"
                },
                {
                  "key": "3",
                  "name": "CustomerName",
                  "type": "string"
                },
                {
                  "key": "4",
                  "name": "EmailAddress",
                  "type": "string"
                },
                {
                  "key": "5",
                  "name": "Item",
                  "type": "string"
                },
                {
                  "key": "6",
                  "name": "Quantity",
                  "type": "int"
                },
                {
                  "key": "7",
                  "name": "UnitPrice",
                  "type": "double"
                },
                {
                  "key": "8",
                  "name": "TaxAmount",
                  "type": "double"
                },
                {
                  "key": "9",
                  "name": "Year",
                  "type": "int"
                },
                {
                  "key": "10",
                  "name": "Month",
                  "type": "int"
                }
              ],
              "truncated": false
            },
            "isSummary": false,
            "language": "scala"
          },
          "persist_state": {
            "view": {
              "type": "details",
              "tableOptions": {},
              "chartOptions": {
                "chartType": "bar",
                "aggregationType": "sum",
                "categoryFieldKeys": [
                  "0"
                ],
                "seriesFieldKeys": [
                  "1"
                ],
                "isStacked": false
              }
            }
          }
        }
      }
    }
  },
  "nbformat": 4,
  "nbformat_minor": 2
}